{
  "cells": [
    {
      "cell_type": "markdown",
      "metadata": {
        "id": "view-in-github",
        "colab_type": "text"
      },
      "source": [
        "<a href=\"https://colab.research.google.com/github/Ankita-da/Oops_Assignment/blob/main/3_dunder_methods.ipynb\" target=\"_parent\"><img src=\"https://colab.research.google.com/assets/colab-badge.svg\" alt=\"Open In Colab\"/></a>"
      ]
    },
    {
      "cell_type": "code",
      "execution_count": null,
      "id": "19f62fac-8a78-470a-8be1-401d0746e5b0",
      "metadata": {
        "id": "19f62fac-8a78-470a-8be1-401d0746e5b0"
      },
      "outputs": [],
      "source": [
        "#dunder/magic/special method\n"
      ]
    },
    {
      "cell_type": "code",
      "execution_count": null,
      "id": "7749c995-57b1-49bd-b245-74079fe10f3e",
      "metadata": {
        "id": "7749c995-57b1-49bd-b245-74079fe10f3e"
      },
      "outputs": [],
      "source": [
        "print(\"hello world!\") #print is a keyword/inbuiltfunction"
      ]
    },
    {
      "cell_type": "code",
      "execution_count": null,
      "id": "5bc19bd8-ad2e-4a50-9637-74189dac0363",
      "metadata": {
        "id": "5bc19bd8-ad2e-4a50-9637-74189dac0363"
      },
      "outputs": [],
      "source": [
        "#Dunder/magic/special methods are the methods defined by built-in classess in Python\n",
        "#classes define these type of methods for creating custom objects >> for init it means data for every object\n",
        "#implementing operator overloading in Python"
      ]
    },
    {
      "cell_type": "code",
      "execution_count": null,
      "id": "292eb3ca-0fdb-430c-87c1-323fd3ffee08",
      "metadata": {
        "id": "292eb3ca-0fdb-430c-87c1-323fd3ffee08"
      },
      "outputs": [],
      "source": [
        "#d+under\n",
        "#double underscore >> all the methods surrounding double underscore is a dunder method"
      ]
    },
    {
      "cell_type": "code",
      "execution_count": null,
      "id": "d2c53a79-3fa9-4428-8014-b78c8d50a0d0",
      "metadata": {
        "id": "d2c53a79-3fa9-4428-8014-b78c8d50a0d0",
        "outputId": "434f80c2-af81-404f-b65a-ea0ea64abf5b"
      },
      "outputs": [
        {
          "data": {
            "text/plain": [
              "'pwskills'"
            ]
          },
          "execution_count": 3,
          "metadata": {},
          "output_type": "execute_result"
        }
      ],
      "source": [
        "a = \"pw\"\n",
        "b = \"skills\"\n",
        "a+b"
      ]
    },
    {
      "cell_type": "code",
      "execution_count": null,
      "id": "ab0733c0-4666-421f-84a1-8e36a074f466",
      "metadata": {
        "id": "ab0733c0-4666-421f-84a1-8e36a074f466",
        "outputId": "01da37a4-9bc5-4884-81f6-2101a1dc40c7"
      },
      "outputs": [
        {
          "data": {
            "text/plain": [
              "'pwskills'"
            ]
          },
          "execution_count": 4,
          "metadata": {},
          "output_type": "execute_result"
        }
      ],
      "source": [
        "a.__add__(b) #a dunder method/special/magic method associated with strings"
      ]
    },
    {
      "cell_type": "code",
      "execution_count": null,
      "id": "ab9d6de5-dc62-49df-9424-a2f9297a3cf5",
      "metadata": {
        "id": "ab9d6de5-dc62-49df-9424-a2f9297a3cf5",
        "outputId": "d71b9808-7b72-4e4a-df9d-7e6678bcd986"
      },
      "outputs": [
        {
          "data": {
            "text/plain": [
              "['__add__',\n",
              " '__class__',\n",
              " '__contains__',\n",
              " '__delattr__',\n",
              " '__dir__',\n",
              " '__doc__',\n",
              " '__eq__',\n",
              " '__format__',\n",
              " '__ge__',\n",
              " '__getattribute__',\n",
              " '__getitem__',\n",
              " '__getnewargs__',\n",
              " '__gt__',\n",
              " '__hash__',\n",
              " '__init__',\n",
              " '__init_subclass__',\n",
              " '__iter__',\n",
              " '__le__',\n",
              " '__len__',\n",
              " '__lt__',\n",
              " '__mod__',\n",
              " '__mul__',\n",
              " '__ne__',\n",
              " '__new__',\n",
              " '__reduce__',\n",
              " '__reduce_ex__',\n",
              " '__repr__',\n",
              " '__rmod__',\n",
              " '__rmul__',\n",
              " '__setattr__',\n",
              " '__sizeof__',\n",
              " '__str__',\n",
              " '__subclasshook__',\n",
              " 'capitalize',\n",
              " 'casefold',\n",
              " 'center',\n",
              " 'count',\n",
              " 'encode',\n",
              " 'endswith',\n",
              " 'expandtabs',\n",
              " 'find',\n",
              " 'format',\n",
              " 'format_map',\n",
              " 'index',\n",
              " 'isalnum',\n",
              " 'isalpha',\n",
              " 'isascii',\n",
              " 'isdecimal',\n",
              " 'isdigit',\n",
              " 'isidentifier',\n",
              " 'islower',\n",
              " 'isnumeric',\n",
              " 'isprintable',\n",
              " 'isspace',\n",
              " 'istitle',\n",
              " 'isupper',\n",
              " 'join',\n",
              " 'ljust',\n",
              " 'lower',\n",
              " 'lstrip',\n",
              " 'maketrans',\n",
              " 'partition',\n",
              " 'removeprefix',\n",
              " 'removesuffix',\n",
              " 'replace',\n",
              " 'rfind',\n",
              " 'rindex',\n",
              " 'rjust',\n",
              " 'rpartition',\n",
              " 'rsplit',\n",
              " 'rstrip',\n",
              " 'split',\n",
              " 'splitlines',\n",
              " 'startswith',\n",
              " 'strip',\n",
              " 'swapcase',\n",
              " 'title',\n",
              " 'translate',\n",
              " 'upper',\n",
              " 'zfill']"
            ]
          },
          "execution_count": 5,
          "metadata": {},
          "output_type": "execute_result"
        }
      ],
      "source": [
        "#all dunder methods associated with strings\n",
        "dir(str)"
      ]
    },
    {
      "cell_type": "code",
      "execution_count": null,
      "id": "51da7a00-9e2e-4e2f-91ca-4dacb872ab57",
      "metadata": {
        "id": "51da7a00-9e2e-4e2f-91ca-4dacb872ab57",
        "outputId": "5203cebb-964c-4397-c68d-1efa5aae0352"
      },
      "outputs": [
        {
          "data": {
            "text/plain": [
              "8"
            ]
          },
          "execution_count": 6,
          "metadata": {},
          "output_type": "execute_result"
        }
      ],
      "source": [
        "3+5"
      ]
    },
    {
      "cell_type": "code",
      "execution_count": null,
      "id": "34d060f7-a739-4fc1-88a0-a039d91e1ebb",
      "metadata": {
        "id": "34d060f7-a739-4fc1-88a0-a039d91e1ebb",
        "outputId": "bdc92384-3058-43dd-d27b-989384c2d234"
      },
      "outputs": [
        {
          "data": {
            "text/plain": [
              "8"
            ]
          },
          "execution_count": 7,
          "metadata": {},
          "output_type": "execute_result"
        }
      ],
      "source": [
        "a = 3\n",
        "b = 5\n",
        "a.__add__(b)"
      ]
    },
    {
      "cell_type": "code",
      "execution_count": null,
      "id": "1391c443-cbe7-433d-ab85-cc4366fc2de6",
      "metadata": {
        "id": "1391c443-cbe7-433d-ab85-cc4366fc2de6",
        "outputId": "4e727a4a-79dc-4653-bdcd-e34cae5382f5"
      },
      "outputs": [
        {
          "data": {
            "text/plain": [
              "['__abs__',\n",
              " '__add__',\n",
              " '__and__',\n",
              " '__bool__',\n",
              " '__ceil__',\n",
              " '__class__',\n",
              " '__delattr__',\n",
              " '__dir__',\n",
              " '__divmod__',\n",
              " '__doc__',\n",
              " '__eq__',\n",
              " '__float__',\n",
              " '__floor__',\n",
              " '__floordiv__',\n",
              " '__format__',\n",
              " '__ge__',\n",
              " '__getattribute__',\n",
              " '__getnewargs__',\n",
              " '__gt__',\n",
              " '__hash__',\n",
              " '__index__',\n",
              " '__init__',\n",
              " '__init_subclass__',\n",
              " '__int__',\n",
              " '__invert__',\n",
              " '__le__',\n",
              " '__lshift__',\n",
              " '__lt__',\n",
              " '__mod__',\n",
              " '__mul__',\n",
              " '__ne__',\n",
              " '__neg__',\n",
              " '__new__',\n",
              " '__or__',\n",
              " '__pos__',\n",
              " '__pow__',\n",
              " '__radd__',\n",
              " '__rand__',\n",
              " '__rdivmod__',\n",
              " '__reduce__',\n",
              " '__reduce_ex__',\n",
              " '__repr__',\n",
              " '__rfloordiv__',\n",
              " '__rlshift__',\n",
              " '__rmod__',\n",
              " '__rmul__',\n",
              " '__ror__',\n",
              " '__round__',\n",
              " '__rpow__',\n",
              " '__rrshift__',\n",
              " '__rshift__',\n",
              " '__rsub__',\n",
              " '__rtruediv__',\n",
              " '__rxor__',\n",
              " '__setattr__',\n",
              " '__sizeof__',\n",
              " '__str__',\n",
              " '__sub__',\n",
              " '__subclasshook__',\n",
              " '__truediv__',\n",
              " '__trunc__',\n",
              " '__xor__',\n",
              " 'as_integer_ratio',\n",
              " 'bit_count',\n",
              " 'bit_length',\n",
              " 'conjugate',\n",
              " 'denominator',\n",
              " 'from_bytes',\n",
              " 'imag',\n",
              " 'numerator',\n",
              " 'real',\n",
              " 'to_bytes']"
            ]
          },
          "execution_count": 8,
          "metadata": {},
          "output_type": "execute_result"
        }
      ],
      "source": [
        "dir(int)"
      ]
    },
    {
      "cell_type": "code",
      "execution_count": null,
      "id": "3cd337e0-56ac-4c7e-9900-fe580217da67",
      "metadata": {
        "id": "3cd337e0-56ac-4c7e-9900-fe580217da67"
      },
      "outputs": [],
      "source": [
        "#useful dunder methods\n",
        "#__init__ >>to take data with respect to object\n",
        "class Student:\\\n",
        "#to initialize the newly created instance/object>>it sets up any intial state/properties of the object\n",
        "#also known as constructor\n",
        "    def __init__(self, name):\n",
        "        print(name, \"This is the first thing that will be executed when you make instance/object of the class\")"
      ]
    },
    {
      "cell_type": "code",
      "execution_count": null,
      "id": "f2ad6dd7-a9f1-4ade-b457-d5f340f72dd8",
      "metadata": {
        "id": "f2ad6dd7-a9f1-4ade-b457-d5f340f72dd8",
        "outputId": "a2ac897b-cd02-4fe3-f02d-82c0da47bdad"
      },
      "outputs": [
        {
          "name": "stdout",
          "output_type": "stream",
          "text": [
            "Ajay This is the first thing that will be executed when you make instance/object of the class\n"
          ]
        }
      ],
      "source": [
        "obj1 = Student(\"Ajay\")"
      ]
    },
    {
      "cell_type": "code",
      "execution_count": null,
      "id": "e3321a93-a4ba-4722-bf6e-9ef883b0d75f",
      "metadata": {
        "id": "e3321a93-a4ba-4722-bf6e-9ef883b0d75f",
        "outputId": "6d3d53b2-8697-4385-8947-597d101a2c40"
      },
      "outputs": [
        {
          "name": "stdout",
          "output_type": "stream",
          "text": [
            "Bijay This is the first thing that will be executed when you make instance/object of the class\n"
          ]
        }
      ],
      "source": [
        "obj2 = Student(\"Bijay\")"
      ]
    },
    {
      "cell_type": "code",
      "execution_count": null,
      "id": "1cf5abe9-54a9-4aed-8f5c-5c8ba63fb641",
      "metadata": {
        "id": "1cf5abe9-54a9-4aed-8f5c-5c8ba63fb641"
      },
      "outputs": [],
      "source": [
        "#another magic method >> __new__\n",
        "class Student:\n",
        "    #__new__ is responsible for creating a new instance of the class\n",
        "    def __new__(cls): #since cls>>so it will be referring to the class directly\n",
        "        print(\"This will be executed even before init.\")\n",
        "    #to initialize teh newly created instance/object>>it sets up any intial state/properties of the object\n",
        "    def __init__(self, name):\n",
        "        print(name, \"This is the first thing that will be executed when you make instance/object of the class\")"
      ]
    },
    {
      "cell_type": "code",
      "execution_count": null,
      "id": "f7ffde48-066a-442c-9cd5-a6807c5ace3c",
      "metadata": {
        "id": "f7ffde48-066a-442c-9cd5-a6807c5ace3c",
        "outputId": "d7ea781d-1f59-4c99-9072-775ba9977fa7"
      },
      "outputs": [
        {
          "name": "stdout",
          "output_type": "stream",
          "text": [
            "This will be executed even before init.\n"
          ]
        }
      ],
      "source": [
        "obj = Student()"
      ]
    },
    {
      "cell_type": "code",
      "execution_count": null,
      "id": "549dbdf3-0b1b-454a-bbac-ff43e207799e",
      "metadata": {
        "id": "549dbdf3-0b1b-454a-bbac-ff43e207799e"
      },
      "outputs": [],
      "source": [
        "#another dunder method>> __str__ >> which returns string representation of method\n",
        "class Student:\n",
        "    def __init__(self):\n",
        "        self.phone = 999999999"
      ]
    },
    {
      "cell_type": "code",
      "execution_count": null,
      "id": "9bdb38e6-2787-44d9-ad25-06a2e2d6c150",
      "metadata": {
        "id": "9bdb38e6-2787-44d9-ad25-06a2e2d6c150",
        "outputId": "bc0b1b69-e014-47cc-f18f-bb29133af86a"
      },
      "outputs": [
        {
          "data": {
            "text/plain": [
              "<__main__.Student at 0x7fcc34701ff0>"
            ]
          },
          "execution_count": 21,
          "metadata": {},
          "output_type": "execute_result"
        }
      ],
      "source": [
        "Student()"
      ]
    },
    {
      "cell_type": "code",
      "execution_count": null,
      "id": "838ab419-bfa0-4c38-9592-2fa26214aa85",
      "metadata": {
        "id": "838ab419-bfa0-4c38-9592-2fa26214aa85",
        "outputId": "cfea30e4-7122-4950-b4e9-23273bbd0b06"
      },
      "outputs": [
        {
          "name": "stdout",
          "output_type": "stream",
          "text": [
            "<__main__.Student object at 0x7fcc34719ea0>\n"
          ]
        }
      ],
      "source": [
        "print(Student()) #hexadecimal representation  of memory of Student object"
      ]
    },
    {
      "cell_type": "code",
      "execution_count": null,
      "id": "1f86bff2-2b71-4772-904d-a19e0afba432",
      "metadata": {
        "id": "1f86bff2-2b71-4772-904d-a19e0afba432"
      },
      "outputs": [],
      "source": [
        "class Student:\n",
        "    def __init__(self):\n",
        "        self.phone = 999999999\n",
        "    def __str__(self): #__str__  will return a string representation of object\n",
        "        return \"This method overloads the print statement of object\""
      ]
    },
    {
      "cell_type": "code",
      "execution_count": null,
      "id": "405a5023-4c7e-4ec1-a676-18f31ecfbb4e",
      "metadata": {
        "id": "405a5023-4c7e-4ec1-a676-18f31ecfbb4e",
        "outputId": "e44fa7ea-8cc5-4e8d-94fa-9f2127b828d2"
      },
      "outputs": [
        {
          "data": {
            "text/plain": [
              "<__main__.Student at 0x7fcc3c0e9810>"
            ]
          },
          "execution_count": 23,
          "metadata": {},
          "output_type": "execute_result"
        }
      ],
      "source": [
        "Student()"
      ]
    },
    {
      "cell_type": "code",
      "execution_count": null,
      "id": "00043dae-8471-4fd0-a40a-d089c84f02ad",
      "metadata": {
        "id": "00043dae-8471-4fd0-a40a-d089c84f02ad",
        "outputId": "f348a2fd-e074-4cc9-c131-d7fe07517877"
      },
      "outputs": [
        {
          "name": "stdout",
          "output_type": "stream",
          "text": [
            "This method overloads the print statement of object method\n"
          ]
        }
      ],
      "source": [
        "print(Student())"
      ]
    },
    {
      "cell_type": "code",
      "execution_count": null,
      "id": "da9d4256-b988-464d-8290-dc375c0f3a71",
      "metadata": {
        "id": "da9d4256-b988-464d-8290-dc375c0f3a71"
      },
      "outputs": [],
      "source": [
        "#another dunder method __repr__ >> meaning representation of class\n",
        "#it returns unambiguous string representation of teh object as it is that can be used recreate the object"
      ]
    },
    {
      "cell_type": "code",
      "execution_count": null,
      "id": "e529e95e-31ff-441f-92d9-3f6c5e875357",
      "metadata": {
        "id": "e529e95e-31ff-441f-92d9-3f6c5e875357"
      },
      "outputs": [],
      "source": [
        "class MyClass:\n",
        "    def __init__(self, x):\n",
        "        self.x = x\n",
        "    def __repr__(self):\n",
        "        return f\"MyClass({self.x})\""
      ]
    },
    {
      "cell_type": "code",
      "execution_count": null,
      "id": "699f54c3-4d7f-4913-ab8b-93e9d218bbd1",
      "metadata": {
        "id": "699f54c3-4d7f-4913-ab8b-93e9d218bbd1"
      },
      "outputs": [],
      "source": [
        "obj = MyClass(5)"
      ]
    },
    {
      "cell_type": "code",
      "execution_count": null,
      "id": "fb7464bb-2a77-4fa1-8d83-88665c1f68ac",
      "metadata": {
        "id": "fb7464bb-2a77-4fa1-8d83-88665c1f68ac",
        "outputId": "b199f9a8-9508-4bde-9e5f-0691e7c15017"
      },
      "outputs": [
        {
          "data": {
            "text/plain": [
              "MyClass(5)"
            ]
          },
          "execution_count": 31,
          "metadata": {},
          "output_type": "execute_result"
        }
      ],
      "source": [
        "obj"
      ]
    },
    {
      "cell_type": "code",
      "execution_count": null,
      "id": "0fdd3aac-f5ec-4e41-84df-f6bcdddb01a0",
      "metadata": {
        "id": "0fdd3aac-f5ec-4e41-84df-f6bcdddb01a0",
        "outputId": "449ccea4-8eaf-4826-b661-3ff7ba7efe26"
      },
      "outputs": [
        {
          "name": "stdout",
          "output_type": "stream",
          "text": [
            "MyClass(5)\n"
          ]
        }
      ],
      "source": [
        "print(repr(obj))"
      ]
    },
    {
      "cell_type": "code",
      "execution_count": null,
      "id": "5ef86802-8ffa-4391-9440-c17102667308",
      "metadata": {
        "id": "5ef86802-8ffa-4391-9440-c17102667308",
        "outputId": "370e0a20-21eb-4f83-a364-2fa7108335c5"
      },
      "outputs": [
        {
          "data": {
            "text/plain": [
              "True"
            ]
          },
          "execution_count": 33,
          "metadata": {},
          "output_type": "execute_result"
        }
      ],
      "source": [
        "#__eq__\n",
        "True == True"
      ]
    },
    {
      "cell_type": "code",
      "execution_count": null,
      "id": "0c37a5c6-f077-4d84-bf83-542629d43678",
      "metadata": {
        "id": "0c37a5c6-f077-4d84-bf83-542629d43678",
        "outputId": "52995f9f-2046-4890-b463-b20a9ce3da2a"
      },
      "outputs": [
        {
          "data": {
            "text/plain": [
              "True"
            ]
          },
          "execution_count": 34,
          "metadata": {},
          "output_type": "execute_result"
        }
      ],
      "source": [
        "3 == 3"
      ]
    },
    {
      "cell_type": "code",
      "execution_count": null,
      "id": "267d8893-1887-4b2c-a8a5-a2c6958f5bb6",
      "metadata": {
        "id": "267d8893-1887-4b2c-a8a5-a2c6958f5bb6",
        "outputId": "e1a87570-89b6-4758-a2fd-58487c535f5f"
      },
      "outputs": [
        {
          "data": {
            "text/plain": [
              "True"
            ]
          },
          "execution_count": 35,
          "metadata": {},
          "output_type": "execute_result"
        }
      ],
      "source": [
        "a = 3\n",
        "b = 3\n",
        "a.__eq__(b)"
      ]
    },
    {
      "cell_type": "code",
      "execution_count": null,
      "id": "c4aaecf4-d904-40d7-b03e-1f9b3d00517a",
      "metadata": {
        "id": "c4aaecf4-d904-40d7-b03e-1f9b3d00517a"
      },
      "outputs": [],
      "source": [
        "#use case of this\n",
        "class Point:\n",
        "    def __init__(self, x, y):\n",
        "        self.x = x\n",
        "        self.y = y\n",
        "    def __eq__(self, other):\n",
        "        return self.x == other.x and self.y == other.y"
      ]
    },
    {
      "cell_type": "code",
      "execution_count": null,
      "id": "1835b969-af86-48c7-baf1-b85598e94841",
      "metadata": {
        "id": "1835b969-af86-48c7-baf1-b85598e94841",
        "outputId": "f32923e7-c10b-4435-cc80-33085d5fba23"
      },
      "outputs": [
        {
          "name": "stdout",
          "output_type": "stream",
          "text": [
            "True\n"
          ]
        }
      ],
      "source": [
        "p1 = Point(1, 2)\n",
        "p2 = Point(1, 2)\n",
        "print(p1 == p2) #comparing both of the object\n",
        "##when you are using == operator with point Objects, python internally calls __add__"
      ]
    },
    {
      "cell_type": "code",
      "execution_count": null,
      "id": "c4befdde-9383-4230-99a5-f2cf14b3de60",
      "metadata": {
        "id": "c4befdde-9383-4230-99a5-f2cf14b3de60",
        "outputId": "1768079b-23ab-4eda-b9ba-bdee284c8710"
      },
      "outputs": [
        {
          "name": "stdout",
          "output_type": "stream",
          "text": [
            "False\n"
          ]
        }
      ],
      "source": [
        "p1 = Point(3, 2)\n",
        "p2 = Point(1, 2)\n",
        "print(p1 == p2)"
      ]
    },
    {
      "cell_type": "code",
      "execution_count": null,
      "id": "749cbc40-647b-47bc-b0ba-769c134d04b1",
      "metadata": {
        "id": "749cbc40-647b-47bc-b0ba-769c134d04b1",
        "outputId": "d69ce9f8-5c48-4d62-f560-ee5bcd94f98a"
      },
      "outputs": [
        {
          "data": {
            "text/plain": [
              "8"
            ]
          },
          "execution_count": 39,
          "metadata": {},
          "output_type": "execute_result"
        }
      ],
      "source": [
        "#__add__\n",
        "a = 3\n",
        "b = 5\n",
        "a+b"
      ]
    },
    {
      "cell_type": "code",
      "execution_count": null,
      "id": "f8506c81-b1fd-4b1e-bbfc-4815601500b5",
      "metadata": {
        "id": "f8506c81-b1fd-4b1e-bbfc-4815601500b5"
      },
      "outputs": [],
      "source": [
        "class Point:\n",
        "    def __init__(self, x, y):\n",
        "        self.x = x\n",
        "        self.y = y\n",
        "    def __add__(self, other):\n",
        "        return Point(self.x + other.x,  self.y + other.y)"
      ]
    },
    {
      "cell_type": "code",
      "execution_count": null,
      "id": "862afedb-b675-4dc8-84e3-31bace47b3f8",
      "metadata": {
        "id": "862afedb-b675-4dc8-84e3-31bace47b3f8",
        "outputId": "86346130-97fe-461c-ec59-dc53fea9c25c"
      },
      "outputs": [
        {
          "name": "stdout",
          "output_type": "stream",
          "text": [
            "2 4\n"
          ]
        }
      ],
      "source": [
        "p1 = Point(1, 2)\n",
        "p2 = Point(1, 2)\n",
        "p3 = p1+p2 #when you are using + operator with point Objects, python internally calls __add__\n",
        "print(p3.x, p3.y)"
      ]
    },
    {
      "cell_type": "code",
      "execution_count": null,
      "id": "f8d7450b-c96d-47dc-9ec7-3abbd22ee52c",
      "metadata": {
        "id": "f8d7450b-c96d-47dc-9ec7-3abbd22ee52c",
        "outputId": "b757303c-a448-4757-ae88-3b76eb61c261"
      },
      "outputs": [
        {
          "name": "stdout",
          "output_type": "stream",
          "text": [
            "6 10\n"
          ]
        }
      ],
      "source": [
        "p1 = Point(5, 2)\n",
        "p2 = Point(1, 8)\n",
        "p3 = p1+p2\n",
        "print(p3.x, p3.y)"
      ]
    },
    {
      "cell_type": "code",
      "execution_count": null,
      "id": "ac15fe3c-b2c7-426c-a3ca-022056304a95",
      "metadata": {
        "id": "ac15fe3c-b2c7-426c-a3ca-022056304a95"
      },
      "outputs": [],
      "source": []
    }
  ],
  "metadata": {
    "kernelspec": {
      "display_name": "Python 3 (ipykernel)",
      "language": "python",
      "name": "python3"
    },
    "language_info": {
      "codemirror_mode": {
        "name": "ipython",
        "version": 3
      },
      "file_extension": ".py",
      "mimetype": "text/x-python",
      "name": "python",
      "nbconvert_exporter": "python",
      "pygments_lexer": "ipython3",
      "version": "3.10.8"
    },
    "colab": {
      "provenance": [],
      "include_colab_link": true
    }
  },
  "nbformat": 4,
  "nbformat_minor": 5
}