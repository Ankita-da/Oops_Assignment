{
  "cells": [
    {
      "cell_type": "markdown",
      "metadata": {
        "id": "view-in-github",
        "colab_type": "text"
      },
      "source": [
        "<a href=\"https://colab.research.google.com/github/Ankita-da/Oops_Assignment/blob/main/1_oops_(1).ipynb\" target=\"_parent\"><img src=\"https://colab.research.google.com/assets/colab-badge.svg\" alt=\"Open In Colab\"/></a>"
      ]
    },
    {
      "cell_type": "code",
      "execution_count": null,
      "id": "84ed3f6e-fb31-4588-b796-252662cb6399",
      "metadata": {
        "id": "84ed3f6e-fb31-4588-b796-252662cb6399",
        "outputId": "1163c70e-af1c-4501-c678-03793659ece3"
      },
      "outputs": [
        {
          "data": {
            "text/plain": [
              "5"
            ]
          },
          "execution_count": 1,
          "metadata": {},
          "output_type": "execute_result"
        }
      ],
      "source": [
        "#oops>> object oriented programming system\n",
        "a = 5\n",
        "a"
      ]
    },
    {
      "cell_type": "code",
      "execution_count": null,
      "id": "ed8190bc-1ff8-45c4-8193-a2fc035f186b",
      "metadata": {
        "id": "ed8190bc-1ff8-45c4-8193-a2fc035f186b",
        "outputId": "ce946224-5ab3-44da-b586-cbf34c26087b"
      },
      "outputs": [
        {
          "name": "stdout",
          "output_type": "stream",
          "text": [
            "<class 'int'>\n"
          ]
        }
      ],
      "source": [
        "print(type(a))"
      ]
    },
    {
      "cell_type": "code",
      "execution_count": null,
      "id": "8128f64d-f174-410a-bff6-bc57d6060e07",
      "metadata": {
        "id": "8128f64d-f174-410a-bff6-bc57d6060e07",
        "outputId": "11a3f10c-3dab-438f-83dd-e6c223f6e8f4"
      },
      "outputs": [
        {
          "name": "stdout",
          "output_type": "stream",
          "text": [
            "<class 'int'>\n"
          ]
        }
      ],
      "source": [
        "b = 4\n",
        "print(type(b))"
      ]
    },
    {
      "cell_type": "code",
      "execution_count": null,
      "id": "f1ec3339-3264-474c-800b-ff59a9ce2504",
      "metadata": {
        "id": "f1ec3339-3264-474c-800b-ff59a9ce2504",
        "outputId": "737790bb-d505-4499-c274-e855823a1f59"
      },
      "outputs": [
        {
          "name": "stdout",
          "output_type": "stream",
          "text": [
            "<class 'str'>\n"
          ]
        }
      ],
      "source": [
        "s = \"Bijay\"\n",
        "print(type(s))"
      ]
    },
    {
      "cell_type": "code",
      "execution_count": null,
      "id": "3b843a5b-bc76-4836-852a-ad1dae1dcdb6",
      "metadata": {
        "id": "3b843a5b-bc76-4836-852a-ad1dae1dcdb6",
        "outputId": "c5c33791-5ea1-48b5-9d7b-c5095c8a3518"
      },
      "outputs": [
        {
          "name": "stdout",
          "output_type": "stream",
          "text": [
            "<class 'str'>\n"
          ]
        }
      ],
      "source": [
        "a = \"Ajay\"\n",
        "print(type(a))"
      ]
    },
    {
      "cell_type": "code",
      "execution_count": null,
      "id": "0c008f7d-77b5-41a0-bab1-f64b35615adf",
      "metadata": {
        "id": "0c008f7d-77b5-41a0-bab1-f64b35615adf"
      },
      "outputs": [],
      "source": [
        "#iit form(template) example, cars example, human being example\n",
        "#classes are blueprint/template for creating an object\n",
        "#we are different objects of class human being\n",
        "#gujiya maker, thekua maker"
      ]
    },
    {
      "cell_type": "code",
      "execution_count": null,
      "id": "35569236-fbc9-4209-bae7-162898c3567e",
      "metadata": {
        "id": "35569236-fbc9-4209-bae7-162898c3567e"
      },
      "outputs": [],
      "source": [
        "#class Car is nothing but a template\n",
        "class Car: #naming convention>> UpperCamelCase\n",
        "    pass"
      ]
    },
    {
      "cell_type": "code",
      "execution_count": null,
      "id": "741ffab7-ab42-46e1-898e-2cfcc0c47991",
      "metadata": {
        "id": "741ffab7-ab42-46e1-898e-2cfcc0c47991"
      },
      "outputs": [],
      "source": [
        "c1 = Car() #instance/object"
      ]
    },
    {
      "cell_type": "code",
      "execution_count": null,
      "id": "dbe32581-d27c-4ad6-9d8b-254f55fbdb3a",
      "metadata": {
        "id": "dbe32581-d27c-4ad6-9d8b-254f55fbdb3a",
        "outputId": "dbe4fbdf-2380-46e4-b6e3-d741d8d07391"
      },
      "outputs": [
        {
          "name": "stdout",
          "output_type": "stream",
          "text": [
            "<class '__main__.Car'>\n"
          ]
        }
      ],
      "source": [
        "print(type(c1))"
      ]
    },
    {
      "cell_type": "code",
      "execution_count": null,
      "id": "893fa3e5-9459-4bad-ae4b-880a0992980a",
      "metadata": {
        "tags": [],
        "id": "893fa3e5-9459-4bad-ae4b-880a0992980a"
      },
      "outputs": [],
      "source": [
        "#why oops? we already had function\n",
        "#a project can have many components, say backend(f1, f2), frontend(f3, f4), data pipeline(f5, f6)\n",
        "\n",
        "# def f1():\n",
        "#     pass\n",
        "\n",
        "# def f6():\n",
        "#     pass\n",
        "\n",
        "# def f4():\n",
        "#     pass\n",
        "\n",
        "# def f2():\n",
        "#     pass\n",
        "\n",
        "# def d5():\n",
        "#     pass\n",
        "\n",
        "# def f3():\n",
        "#     pass\n",
        "\n",
        "#if a backend developer wants to work/change some backend function>> all the functions are at one place\n",
        "#oops helps you to arrange the required functions in respective classes"
      ]
    },
    {
      "cell_type": "code",
      "execution_count": null,
      "id": "cab3239f-89b8-4437-b2c3-c3c359a56596",
      "metadata": {
        "id": "cab3239f-89b8-4437-b2c3-c3c359a56596"
      },
      "outputs": [],
      "source": [
        "class Car:\n",
        "    pass"
      ]
    },
    {
      "cell_type": "code",
      "execution_count": null,
      "id": "53dd9703-8f73-4ee4-b7cc-fd075e0f2395",
      "metadata": {
        "id": "53dd9703-8f73-4ee4-b7cc-fd075e0f2395",
        "outputId": "9b948cb4-902f-4f67-ad97-16802910927d"
      },
      "outputs": [
        {
          "name": "stdout",
          "output_type": "stream",
          "text": [
            "<class '__main__.Car'>\n"
          ]
        }
      ],
      "source": [
        "c1= Car()\n",
        "print(type(c1))"
      ]
    },
    {
      "cell_type": "code",
      "execution_count": null,
      "id": "c3dde88b-598e-40ec-adf4-d1abce13599c",
      "metadata": {
        "id": "c3dde88b-598e-40ec-adf4-d1abce13599c"
      },
      "outputs": [],
      "source": [
        "class Car: #function/method of a car\n",
        "    def accelerate():\n",
        "        print(\"car is accelerating\")"
      ]
    },
    {
      "cell_type": "code",
      "execution_count": null,
      "id": "f82f3d25-8d96-4172-a2d6-7e6848c10dd4",
      "metadata": {
        "id": "f82f3d25-8d96-4172-a2d6-7e6848c10dd4"
      },
      "outputs": [],
      "source": [
        "c1 = Car()"
      ]
    },
    {
      "cell_type": "code",
      "execution_count": null,
      "id": "28880efc-ecce-449d-848e-8a05adb008f6",
      "metadata": {
        "id": "28880efc-ecce-449d-848e-8a05adb008f6",
        "outputId": "9b19f9d2-16bb-4d70-dad9-9c30fbfd5d7d"
      },
      "outputs": [
        {
          "ename": "TypeError",
          "evalue": "Car.accelerate() takes 0 positional arguments but 1 was given",
          "output_type": "error",
          "traceback": [
            "\u001b[0;31m---------------------------------------------------------------------------\u001b[0m",
            "\u001b[0;31mTypeError\u001b[0m                                 Traceback (most recent call last)",
            "Cell \u001b[0;32mIn[21], line 1\u001b[0m\n\u001b[0;32m----> 1\u001b[0m \u001b[43mc1\u001b[49m\u001b[38;5;241;43m.\u001b[39;49m\u001b[43maccelerate\u001b[49m\u001b[43m(\u001b[49m\u001b[43m)\u001b[49m \u001b[38;5;66;03m#it will throw an error\u001b[39;00m\n",
            "\u001b[0;31mTypeError\u001b[0m: Car.accelerate() takes 0 positional arguments but 1 was given"
          ]
        }
      ],
      "source": [
        "c1.accelerate() #it will throw an error"
      ]
    },
    {
      "cell_type": "code",
      "execution_count": null,
      "id": "fdbd4cf7-1065-4000-8260-3a075135563b",
      "metadata": {
        "id": "fdbd4cf7-1065-4000-8260-3a075135563b"
      },
      "outputs": [],
      "source": [
        "class Car: #function/method of a car\n",
        "    def accelerate(self):\n",
        "        print(\"car is accelerating\")\n",
        "#self>> a variable that represent instance of the class using which you can access method/function of class, also attribute/property/data of the class\n",
        "#self makes sure that each object knows that the method is associated with it\n",
        "#in other words the method is referenced to that particular object"
      ]
    },
    {
      "cell_type": "code",
      "execution_count": null,
      "id": "63502231-a57a-49e2-89f6-171968e8a9d8",
      "metadata": {
        "id": "63502231-a57a-49e2-89f6-171968e8a9d8",
        "outputId": "e66b74e9-b209-49bf-ce0b-6f60edbc2667"
      },
      "outputs": [
        {
          "name": "stdout",
          "output_type": "stream",
          "text": [
            "car is accelerating\n"
          ]
        }
      ],
      "source": [
        "c1 = Car()\n",
        "c1.accelerate()"
      ]
    },
    {
      "cell_type": "code",
      "execution_count": null,
      "id": "6e5ab1d7-f636-485b-8a8d-08b752c2edd9",
      "metadata": {
        "id": "6e5ab1d7-f636-485b-8a8d-08b752c2edd9",
        "outputId": "31dc8bc2-85ce-4c54-f8a3-366d9f031b83"
      },
      "outputs": [
        {
          "name": "stdout",
          "output_type": "stream",
          "text": [
            "car is accelerating\n"
          ]
        }
      ],
      "source": [
        "c2 = Car()\n",
        "c2.accelerate()"
      ]
    },
    {
      "cell_type": "code",
      "execution_count": null,
      "id": "814ae169-5095-4b6e-a01e-8bb0ba0cc2fa",
      "metadata": {
        "id": "814ae169-5095-4b6e-a01e-8bb0ba0cc2fa"
      },
      "outputs": [],
      "source": [
        "class Car:\n",
        "    def accelerate(self):\n",
        "        print(\"car is accelerating\")\n",
        "    def brake(self):\n",
        "        print(\"car is stopping\")\n",
        "#self is not a python keyword, you can pass any variable name\n",
        "#best practise is to pass self"
      ]
    },
    {
      "cell_type": "code",
      "execution_count": null,
      "id": "18571a4d-554c-4da8-a62f-37a67bc4d53c",
      "metadata": {
        "id": "18571a4d-554c-4da8-a62f-37a67bc4d53c",
        "outputId": "9d892430-bfb7-4820-a735-4c18bc83fa5b"
      },
      "outputs": [
        {
          "name": "stdout",
          "output_type": "stream",
          "text": [
            "car is stopping\n"
          ]
        }
      ],
      "source": [
        "c1 = Car()\n",
        "c1.brake()"
      ]
    },
    {
      "cell_type": "code",
      "execution_count": null,
      "id": "f9eb1882-6c39-4a34-b430-6c41b704b674",
      "metadata": {
        "id": "f9eb1882-6c39-4a34-b430-6c41b704b674",
        "outputId": "7b37f469-4097-4423-d54e-ee7831313ac6"
      },
      "outputs": [
        {
          "name": "stdout",
          "output_type": "stream",
          "text": [
            "car is accelerating\n"
          ]
        }
      ],
      "source": [
        "c1.accelerate()"
      ]
    },
    {
      "cell_type": "code",
      "execution_count": null,
      "id": "8b951fd3-5083-415e-bf3e-5dab01287518",
      "metadata": {
        "id": "8b951fd3-5083-415e-bf3e-5dab01287518"
      },
      "outputs": [],
      "source": [
        "class Bank:\n",
        "    def deposit(self):\n",
        "        print(\"I am depositing the money\")\n",
        "    def withdraw(self):\n",
        "        print(\"I am trying to withdraw money\")"
      ]
    },
    {
      "cell_type": "code",
      "execution_count": null,
      "id": "b9d27ce0-ead1-44be-84bb-1f91fe90f44d",
      "metadata": {
        "id": "b9d27ce0-ead1-44be-84bb-1f91fe90f44d",
        "outputId": "9d548935-c27f-41a1-d0da-86d7489b47a5"
      },
      "outputs": [
        {
          "name": "stdout",
          "output_type": "stream",
          "text": [
            "I am depositing the money\n"
          ]
        }
      ],
      "source": [
        "c1 = Bank()\n",
        "c1.deposit()"
      ]
    },
    {
      "cell_type": "code",
      "execution_count": null,
      "id": "9e83127a-ad15-4440-8e8d-cbc5d4602911",
      "metadata": {
        "id": "9e83127a-ad15-4440-8e8d-cbc5d4602911",
        "outputId": "913910d6-53ae-4de0-a76d-9d24ff9edff0"
      },
      "outputs": [
        {
          "name": "stdout",
          "output_type": "stream",
          "text": [
            "I am trying to withdraw money\n"
          ]
        }
      ],
      "source": [
        "c1.withdraw()"
      ]
    },
    {
      "cell_type": "code",
      "execution_count": null,
      "id": "a1bc33c0-5450-4a60-9e04-a9049856271e",
      "metadata": {
        "id": "a1bc33c0-5450-4a60-9e04-a9049856271e",
        "outputId": "c0f15a88-382b-4fdd-ef89-ef47d1b333ff"
      },
      "outputs": [
        {
          "name": "stdout",
          "output_type": "stream",
          "text": [
            "I am depositing the money\n"
          ]
        }
      ],
      "source": [
        "c2 = Bank()\n",
        "c2.deposit()"
      ]
    },
    {
      "cell_type": "code",
      "execution_count": null,
      "id": "39c7f610-a801-4248-bd37-3d2a51fabbd1",
      "metadata": {
        "id": "39c7f610-a801-4248-bd37-3d2a51fabbd1"
      },
      "outputs": [],
      "source": [
        "#passing data in the class>> can also be called as property/attribute\n",
        "class Bank:\n",
        "    def deposit(self, amount):\n",
        "        print(\"I am depositing the money\")\n",
        "    def withdraw(self, amount_withdraw):\n",
        "        print(\"I am trying to withdraw money\")"
      ]
    },
    {
      "cell_type": "code",
      "execution_count": null,
      "id": "0db7c5a4-efbb-47e7-b2a5-fa115922aa66",
      "metadata": {
        "id": "0db7c5a4-efbb-47e7-b2a5-fa115922aa66",
        "outputId": "172d0fa8-23bf-49ff-fb36-41570ad6a039"
      },
      "outputs": [
        {
          "ename": "TypeError",
          "evalue": "Bank.deposit() missing 1 required positional argument: 'amount'",
          "output_type": "error",
          "traceback": [
            "\u001b[0;31m---------------------------------------------------------------------------\u001b[0m",
            "\u001b[0;31mTypeError\u001b[0m                                 Traceback (most recent call last)",
            "Cell \u001b[0;32mIn[42], line 2\u001b[0m\n\u001b[1;32m      1\u001b[0m ajay \u001b[38;5;241m=\u001b[39m Bank()\n\u001b[0;32m----> 2\u001b[0m \u001b[43majay\u001b[49m\u001b[38;5;241;43m.\u001b[39;49m\u001b[43mdeposit\u001b[49m\u001b[43m(\u001b[49m\u001b[43m)\u001b[49m \u001b[38;5;66;03m#throw an error\u001b[39;00m\n",
            "\u001b[0;31mTypeError\u001b[0m: Bank.deposit() missing 1 required positional argument: 'amount'"
          ]
        }
      ],
      "source": [
        "ajay = Bank()\n",
        "ajay.deposit() #throw an error"
      ]
    },
    {
      "cell_type": "code",
      "execution_count": null,
      "id": "b31bdfd6-a468-471d-9333-c6b9a0ea06d8",
      "metadata": {
        "id": "b31bdfd6-a468-471d-9333-c6b9a0ea06d8",
        "outputId": "fb466814-a9a0-45aa-bada-e08a30d6962b"
      },
      "outputs": [
        {
          "name": "stdout",
          "output_type": "stream",
          "text": [
            "I am depositing the money\n"
          ]
        }
      ],
      "source": [
        "ajay.deposit(1000)"
      ]
    },
    {
      "cell_type": "code",
      "execution_count": null,
      "id": "afd3c072-002c-4ea2-b5ad-29dd282fad88",
      "metadata": {
        "id": "afd3c072-002c-4ea2-b5ad-29dd282fad88",
        "outputId": "80d4e492-eff6-43ef-d831-8f2d953757e1"
      },
      "outputs": [
        {
          "name": "stdout",
          "output_type": "stream",
          "text": [
            "I am trying to withdraw money\n"
          ]
        }
      ],
      "source": [
        "ajay.withdraw(500)"
      ]
    },
    {
      "cell_type": "code",
      "execution_count": null,
      "id": "c04e1111-cd12-4b7e-9ee5-1ba5705cd3ae",
      "metadata": {
        "id": "c04e1111-cd12-4b7e-9ee5-1ba5705cd3ae"
      },
      "outputs": [],
      "source": [
        "#bank will ask for a default amount, amount is attribute/property/data of class Bank\n",
        "class Bank:\n",
        "    amount = 1000\n",
        "    def deposit(self, amount):\n",
        "        print(\"I am depositing the money\")\n",
        "    def withdraw(self, amount_withdraw):\n",
        "        print(\"I am trying to withdraw money\")"
      ]
    },
    {
      "cell_type": "code",
      "execution_count": null,
      "id": "831562d3-632b-44db-b8a0-415c779d29f3",
      "metadata": {
        "id": "831562d3-632b-44db-b8a0-415c779d29f3",
        "outputId": "4c000ad3-14d7-4679-a9a0-4cbc39e80250"
      },
      "outputs": [
        {
          "name": "stdout",
          "output_type": "stream",
          "text": [
            "I am depositing the money\n"
          ]
        }
      ],
      "source": [
        "ajay = Bank()\n",
        "ajay.deposit(1000)"
      ]
    },
    {
      "cell_type": "code",
      "execution_count": null,
      "id": "a9d0c14f-80e9-42dd-b6a2-1eb0f031adfe",
      "metadata": {
        "id": "a9d0c14f-80e9-42dd-b6a2-1eb0f031adfe",
        "outputId": "1508a818-3a86-4e1b-83bd-5b0d7f07bb8c"
      },
      "outputs": [
        {
          "data": {
            "text/plain": [
              "1000"
            ]
          },
          "execution_count": 49,
          "metadata": {},
          "output_type": "execute_result"
        }
      ],
      "source": [
        "#attributes/property can be also accessed the same way as methods/functions are accessed\n",
        "ajay.amount"
      ]
    },
    {
      "cell_type": "code",
      "execution_count": null,
      "id": "9705796c-afc3-430f-8939-edf8c6f99671",
      "metadata": {
        "id": "9705796c-afc3-430f-8939-edf8c6f99671"
      },
      "outputs": [],
      "source": [
        "#extract odd and even nos from a list\n",
        "\n",
        "class ListOps:\n",
        "    l = [1, 2, 3, 4, 5]\n",
        "    def extract_even(self, l):\n",
        "        l1 = []\n",
        "        for i in l:\n",
        "            if i%2 == 0:\n",
        "                l1.append(i)\n",
        "        return l1\n",
        "    def extract_odd(self, l):\n",
        "        l1 = []\n",
        "        for i in l:\n",
        "            if i%2 != 0:\n",
        "                l1.append(i)\n",
        "        return l1"
      ]
    },
    {
      "cell_type": "code",
      "execution_count": null,
      "id": "d7fdd602-c7e4-41b9-a193-db6c7b72197a",
      "metadata": {
        "id": "d7fdd602-c7e4-41b9-a193-db6c7b72197a"
      },
      "outputs": [],
      "source": [
        "ops1 = ListOps()"
      ]
    },
    {
      "cell_type": "code",
      "execution_count": null,
      "id": "1ba54875-3b6a-46fa-81ba-fd55df8449a7",
      "metadata": {
        "id": "1ba54875-3b6a-46fa-81ba-fd55df8449a7",
        "outputId": "da2a9746-5a10-4f48-b884-8de012aa1e25"
      },
      "outputs": [
        {
          "data": {
            "text/plain": [
              "[1, 2, 3, 4, 5]"
            ]
          },
          "execution_count": 52,
          "metadata": {},
          "output_type": "execute_result"
        }
      ],
      "source": [
        "ops1.l"
      ]
    },
    {
      "cell_type": "code",
      "execution_count": null,
      "id": "831cf9ea-2863-4a35-aae4-84bd64267bab",
      "metadata": {
        "id": "831cf9ea-2863-4a35-aae4-84bd64267bab",
        "outputId": "8539517b-310d-4ec9-9a8c-0bc448996b46"
      },
      "outputs": [
        {
          "data": {
            "text/plain": [
              "[2, 4]"
            ]
          },
          "execution_count": 55,
          "metadata": {},
          "output_type": "execute_result"
        }
      ],
      "source": [
        "ops1.extract_even(ops1.l)"
      ]
    },
    {
      "cell_type": "code",
      "execution_count": null,
      "id": "66ccb91e-9436-4fc9-9c0a-f9fd01c5bc45",
      "metadata": {
        "id": "66ccb91e-9436-4fc9-9c0a-f9fd01c5bc45",
        "outputId": "819b7a42-15c8-4664-a24a-dbbb0f9723ab"
      },
      "outputs": [
        {
          "data": {
            "text/plain": [
              "[1, 3, 5]"
            ]
          },
          "execution_count": 56,
          "metadata": {},
          "output_type": "execute_result"
        }
      ],
      "source": [
        "ops1.extract_odd(ops1.l)"
      ]
    },
    {
      "cell_type": "code",
      "execution_count": null,
      "id": "b4551999-b22b-449f-a52f-6d208cb3b6e8",
      "metadata": {
        "id": "b4551999-b22b-449f-a52f-6d208cb3b6e8",
        "outputId": "1d77a2c7-6c69-4bc9-9260-b96faee6a268"
      },
      "outputs": [
        {
          "data": {
            "text/plain": [
              "[11]"
            ]
          },
          "execution_count": 58,
          "metadata": {},
          "output_type": "execute_result"
        }
      ],
      "source": [
        "ops1.extract_odd([8, 11, 12, 14])"
      ]
    },
    {
      "cell_type": "code",
      "execution_count": null,
      "id": "709c8f78-42fa-48f3-95db-2460c53fac5f",
      "metadata": {
        "id": "709c8f78-42fa-48f3-95db-2460c53fac5f",
        "outputId": "446d2ac5-3c72-4f15-daaa-de77b2d746de"
      },
      "outputs": [
        {
          "data": {
            "text/plain": [
              "[1, 2, 3, 4, 5]"
            ]
          },
          "execution_count": 59,
          "metadata": {},
          "output_type": "execute_result"
        }
      ],
      "source": [
        "#if you make any object the attribute l is fixed\n",
        "#inspite of passing a different list above you are still getting the fixed l([1, 2, 3, 4,5])\n",
        "ops1.l"
      ]
    },
    {
      "cell_type": "code",
      "execution_count": null,
      "id": "94bb6aa7-138b-4981-905a-3e181597e0d9",
      "metadata": {
        "id": "94bb6aa7-138b-4981-905a-3e181597e0d9"
      },
      "outputs": [],
      "source": [
        "#yyou want to take the attribute value of the class for each object differently"
      ]
    },
    {
      "cell_type": "code",
      "execution_count": null,
      "id": "6d54fd5d-ed74-4459-9b58-8192ece285fc",
      "metadata": {
        "id": "6d54fd5d-ed74-4459-9b58-8192ece285fc"
      },
      "outputs": [],
      "source": [
        "#extract odd and even nos from a list\n",
        "\n",
        "class ListOps:\n",
        "    def __init__(self, l): #magic method/dunder method. init means initialisation>>of variable\n",
        "        self.l = l\n",
        "\n",
        "    def extract_even(self, l):\n",
        "        l1 = []\n",
        "        for i in l:\n",
        "            if i%2 == 0:\n",
        "                l1.append(i)\n",
        "        return l1\n",
        "\n",
        "    def extract_odd(self, l):\n",
        "        l1 = []\n",
        "        for i in l:\n",
        "            if i%2 != 0:\n",
        "                l1.append(i)\n",
        "        return l1"
      ]
    },
    {
      "cell_type": "code",
      "execution_count": null,
      "id": "f5185386-cdbc-4bf2-8f42-bc9ef1bc8d1b",
      "metadata": {
        "id": "f5185386-cdbc-4bf2-8f42-bc9ef1bc8d1b",
        "outputId": "988d644c-315c-429b-e095-04e9ace5f321"
      },
      "outputs": [
        {
          "ename": "TypeError",
          "evalue": "ListOps.__init__() missing 1 required positional argument: 'l'",
          "output_type": "error",
          "traceback": [
            "\u001b[0;31m---------------------------------------------------------------------------\u001b[0m",
            "\u001b[0;31mTypeError\u001b[0m                                 Traceback (most recent call last)",
            "Cell \u001b[0;32mIn[63], line 1\u001b[0m\n\u001b[0;32m----> 1\u001b[0m ops1 \u001b[38;5;241m=\u001b[39m \u001b[43mListOps\u001b[49m\u001b[43m(\u001b[49m\u001b[43m)\u001b[49m \u001b[38;5;66;03m#throw an error\u001b[39;00m\n",
            "\u001b[0;31mTypeError\u001b[0m: ListOps.__init__() missing 1 required positional argument: 'l'"
          ]
        }
      ],
      "source": [
        "ops1 = ListOps() #throw an error, while making object/instance of the class, the first method that is executed is __init__\n",
        "#and init needs an arguement"
      ]
    },
    {
      "cell_type": "code",
      "execution_count": null,
      "id": "41b354e5-50b7-4a17-b334-f6cd5196ed7c",
      "metadata": {
        "id": "41b354e5-50b7-4a17-b334-f6cd5196ed7c"
      },
      "outputs": [],
      "source": [
        "ops1 = ListOps([1,10 ,30, 31, 4, 5])\n"
      ]
    },
    {
      "cell_type": "code",
      "execution_count": null,
      "id": "62626088-f123-4a64-b3ba-8a788016e01e",
      "metadata": {
        "id": "62626088-f123-4a64-b3ba-8a788016e01e",
        "outputId": "959605c4-d98a-4fd8-d064-1d779d5fdda0"
      },
      "outputs": [
        {
          "data": {
            "text/plain": [
              "[1, 10, 30, 31, 4, 5]"
            ]
          },
          "execution_count": 67,
          "metadata": {},
          "output_type": "execute_result"
        }
      ],
      "source": [
        "ops1.l"
      ]
    },
    {
      "cell_type": "code",
      "execution_count": null,
      "id": "f754a4f8-cb1f-4801-ba98-7bbd1182832d",
      "metadata": {
        "id": "f754a4f8-cb1f-4801-ba98-7bbd1182832d",
        "outputId": "f659abc5-10fe-4778-fa50-c5b9b65f1378"
      },
      "outputs": [
        {
          "data": {
            "text/plain": [
              "[1, 1, 1, 30, 31, 4, 5]"
            ]
          },
          "execution_count": 68,
          "metadata": {},
          "output_type": "execute_result"
        }
      ],
      "source": [
        "ops2 = ListOps([1,1, 1 ,30, 31, 4, 5])\n",
        "ops2.l"
      ]
    },
    {
      "cell_type": "code",
      "execution_count": null,
      "id": "554619ec-1df6-4639-878d-49bc2f69aea6",
      "metadata": {
        "id": "554619ec-1df6-4639-878d-49bc2f69aea6",
        "outputId": "542663d5-584c-4048-f893-7b0da1d8e055"
      },
      "outputs": [
        {
          "ename": "TypeError",
          "evalue": "ListOps.extract_even() missing 1 required positional argument: 'l'",
          "output_type": "error",
          "traceback": [
            "\u001b[0;31m---------------------------------------------------------------------------\u001b[0m",
            "\u001b[0;31mTypeError\u001b[0m                                 Traceback (most recent call last)",
            "Cell \u001b[0;32mIn[69], line 1\u001b[0m\n\u001b[0;32m----> 1\u001b[0m \u001b[43mops1\u001b[49m\u001b[38;5;241;43m.\u001b[39;49m\u001b[43mextract_even\u001b[49m\u001b[43m(\u001b[49m\u001b[43m)\u001b[49m \u001b[38;5;66;03m#throw an error.\u001b[39;00m\n",
            "\u001b[0;31mTypeError\u001b[0m: ListOps.extract_even() missing 1 required positional argument: 'l'"
          ]
        }
      ],
      "source": [
        "ops1.extract_even() #throw an error. see the explanation below"
      ]
    },
    {
      "cell_type": "code",
      "execution_count": null,
      "id": "2df592b5-e3a7-447e-8784-a24dc0d6e288",
      "metadata": {
        "id": "2df592b5-e3a7-447e-8784-a24dc0d6e288"
      },
      "outputs": [],
      "source": [
        "#extract odd and even nos from a list\n",
        "\n",
        "class ListOps:\n",
        "    def __init__(self, l): #magic method/dunder method. init means initialisation>>of variable\n",
        "        self.l = l\n",
        "\n",
        "    def extract_even(self): #be careful as init has been used only pass self in the method and not the variable again\n",
        "        l = self.l\n",
        "        l1 = []\n",
        "        for i in l:\n",
        "            if i%2 == 0:\n",
        "                l1.append(i)\n",
        "        return l1\n",
        "\n",
        "    def extract_odd(self):\n",
        "        l = self.l\n",
        "        l1 = []\n",
        "        for i in l:\n",
        "            if i%2 != 0:\n",
        "                l1.append(i)\n",
        "        return l1"
      ]
    },
    {
      "cell_type": "code",
      "execution_count": null,
      "id": "7421d6b3-7e09-42a2-a7b8-c16b68b96cf2",
      "metadata": {
        "id": "7421d6b3-7e09-42a2-a7b8-c16b68b96cf2",
        "outputId": "a6557652-bba1-4002-9d60-c667168a7e3a"
      },
      "outputs": [
        {
          "data": {
            "text/plain": [
              "[1, 9, 11]"
            ]
          },
          "execution_count": 71,
          "metadata": {},
          "output_type": "execute_result"
        }
      ],
      "source": [
        "ops1 = ListOps([1, 8, 9, 11, 12])\n",
        "ops1.extract_odd()"
      ]
    },
    {
      "cell_type": "code",
      "execution_count": null,
      "id": "efefdd60-851b-4ad3-8eff-41a9b4b8d3cc",
      "metadata": {
        "id": "efefdd60-851b-4ad3-8eff-41a9b4b8d3cc",
        "outputId": "51cbb0a0-cb73-4216-b4b9-b8b2acd01239"
      },
      "outputs": [
        {
          "data": {
            "text/plain": [
              "[8, 12]"
            ]
          },
          "execution_count": 72,
          "metadata": {},
          "output_type": "execute_result"
        }
      ],
      "source": [
        "ops1.extract_even()"
      ]
    },
    {
      "cell_type": "code",
      "execution_count": null,
      "id": "334f31f4-1764-40ce-adf2-2e97263f6b74",
      "metadata": {
        "id": "334f31f4-1764-40ce-adf2-2e97263f6b74"
      },
      "outputs": [],
      "source": [
        "#extract odd and even nos from a list\n",
        "\n",
        "class ListOps:\n",
        "    def __init__(self, l): #magic method/dunder method. init means initialisation>>of variable\n",
        "        self.l2 = l #everywhere you will be able to access l using slef.l2\n",
        "\n",
        "    def extract_even(self): #be careful as init has been used only pass self in the method and not the variable again\n",
        "        l = self.l2\n",
        "        l1 = []\n",
        "        for i in l:\n",
        "            if i%2 == 0:\n",
        "                l1.append(i)\n",
        "        return l1\n",
        "\n",
        "    def extract_odd(self):\n",
        "        l = self.l2\n",
        "        l1 = []\n",
        "        for i in l:\n",
        "            if i%2 != 0:\n",
        "                l1.append(i)\n",
        "        return l1"
      ]
    },
    {
      "cell_type": "code",
      "execution_count": null,
      "id": "cb2c469b-f37e-4935-8302-e7913bf64f3d",
      "metadata": {
        "id": "cb2c469b-f37e-4935-8302-e7913bf64f3d",
        "outputId": "81a992a6-3fa0-48a3-e59f-1a1e4a45acb5"
      },
      "outputs": [
        {
          "data": {
            "text/plain": [
              "[1, 9, 11]"
            ]
          },
          "execution_count": 78,
          "metadata": {},
          "output_type": "execute_result"
        }
      ],
      "source": [
        "ops1 = ListOps([1, 8, 9, 11, 12])\n",
        "ops1.extract_odd()"
      ]
    },
    {
      "cell_type": "code",
      "execution_count": null,
      "id": "bdc8def3-507b-489d-872d-1144cd0f96c0",
      "metadata": {
        "id": "bdc8def3-507b-489d-872d-1144cd0f96c0"
      },
      "outputs": [],
      "source": [
        "#multiple attributes\n",
        "#in a library a book is associated with author, title, name\n",
        "#every variable is fixed\n",
        "class Book:\n",
        "    def __init__(self):\n",
        "        self.name_of_book = \"DSA\"\n",
        "        self.book_author = \"Cormen\"\n",
        "        self.title_name = \"Stacks\"\n",
        "\n",
        "    def extract_details_name_title(self):\n",
        "        print(self.name_of_book, self.title_name)\n",
        "\n",
        "    def extract_details_name_author(self):\n",
        "        print(self.name_of_book, self.book_author)\n",
        ""
      ]
    },
    {
      "cell_type": "code",
      "execution_count": null,
      "id": "216c95a6-e825-4da1-aa31-60a909202c73",
      "metadata": {
        "id": "216c95a6-e825-4da1-aa31-60a909202c73",
        "outputId": "95f8d124-188a-4837-d897-e97faa9c33de"
      },
      "outputs": [
        {
          "name": "stdout",
          "output_type": "stream",
          "text": [
            "DSA Cormen\n"
          ]
        }
      ],
      "source": [
        "student1 = Book()\n",
        "student1.extract_details_name_author()"
      ]
    },
    {
      "cell_type": "code",
      "execution_count": null,
      "id": "df5ac3f0-3f0a-463a-96d6-d29cac753464",
      "metadata": {
        "id": "df5ac3f0-3f0a-463a-96d6-d29cac753464",
        "outputId": "a24b5531-ae8d-4a31-aafe-98f95495a254"
      },
      "outputs": [
        {
          "name": "stdout",
          "output_type": "stream",
          "text": [
            "DSA Cormen\n"
          ]
        }
      ],
      "source": [
        "student2 = Book()\n",
        "student1.extract_details_name_author()"
      ]
    },
    {
      "cell_type": "code",
      "execution_count": null,
      "id": "9dbc62b7-1662-430d-a555-9a00ca0f54f3",
      "metadata": {
        "id": "9dbc62b7-1662-430d-a555-9a00ca0f54f3"
      },
      "outputs": [],
      "source": [
        "#to pass dynamic variable/data"
      ]
    },
    {
      "cell_type": "code",
      "execution_count": null,
      "id": "e4b8dd5d-80ac-4d1e-9f58-fa2e6b54d4b9",
      "metadata": {
        "id": "e4b8dd5d-80ac-4d1e-9f58-fa2e6b54d4b9"
      },
      "outputs": [],
      "source": [
        "class Book:\n",
        "    def __init__(self, name, author, title):\n",
        "        self.name_of_book = name\n",
        "        self.book_author = author\n",
        "        self.title_name = title\n",
        "\n",
        "    def extract_details_name_title(self):\n",
        "        print(self.name_of_book, self.title_name)\n",
        "\n",
        "    def extract_details_name_author(self):\n",
        "        print(self.name_of_book, self.book_author)"
      ]
    },
    {
      "cell_type": "code",
      "execution_count": null,
      "id": "4c583106-dd6d-442b-ac99-067930b63066",
      "metadata": {
        "id": "4c583106-dd6d-442b-ac99-067930b63066"
      },
      "outputs": [],
      "source": [
        "student1 = Book(\"ML\", \"Murphy\", \"Linear regression\")"
      ]
    },
    {
      "cell_type": "code",
      "execution_count": null,
      "id": "6eeb5928-5620-4428-b383-6fd7ad615580",
      "metadata": {
        "id": "6eeb5928-5620-4428-b383-6fd7ad615580",
        "outputId": "b11b2eae-ea12-493b-df61-ff2896a9ca44"
      },
      "outputs": [
        {
          "name": "stdout",
          "output_type": "stream",
          "text": [
            "ML Murphy\n"
          ]
        }
      ],
      "source": [
        "student1.extract_details_name_author()"
      ]
    },
    {
      "cell_type": "code",
      "execution_count": null,
      "id": "08b0d83d-48ba-4515-b007-1c8895c349f2",
      "metadata": {
        "id": "08b0d83d-48ba-4515-b007-1c8895c349f2",
        "outputId": "82ecb7b7-f710-4c5f-b9f1-1b989608591b"
      },
      "outputs": [
        {
          "name": "stdout",
          "output_type": "stream",
          "text": [
            "ML Linear regression\n"
          ]
        }
      ],
      "source": [
        "student1.extract_details_name_title()"
      ]
    },
    {
      "cell_type": "code",
      "execution_count": null,
      "id": "91648265-7471-4e6e-8639-ffd39149cf84",
      "metadata": {
        "id": "91648265-7471-4e6e-8639-ffd39149cf84",
        "outputId": "1b73a88b-780f-478f-8a7d-9db4afb36850"
      },
      "outputs": [
        {
          "name": "stdout",
          "output_type": "stream",
          "text": [
            "stats joss\n"
          ]
        }
      ],
      "source": [
        "student2 = Book(\"stats\", \"joss\", \"descriptive stats\")\n",
        "student2.extract_details_name_author()"
      ]
    },
    {
      "cell_type": "code",
      "execution_count": null,
      "id": "6c09d0e5-b4f9-4cde-ba8a-2c3df5fa6ed0",
      "metadata": {
        "id": "6c09d0e5-b4f9-4cde-ba8a-2c3df5fa6ed0"
      },
      "outputs": [],
      "source": []
    }
  ],
  "metadata": {
    "kernelspec": {
      "display_name": "Python 3 (ipykernel)",
      "language": "python",
      "name": "python3"
    },
    "language_info": {
      "codemirror_mode": {
        "name": "ipython",
        "version": 3
      },
      "file_extension": ".py",
      "mimetype": "text/x-python",
      "name": "python",
      "nbconvert_exporter": "python",
      "pygments_lexer": "ipython3",
      "version": "3.10.8"
    },
    "colab": {
      "provenance": [],
      "include_colab_link": true
    }
  },
  "nbformat": 4,
  "nbformat_minor": 5
}