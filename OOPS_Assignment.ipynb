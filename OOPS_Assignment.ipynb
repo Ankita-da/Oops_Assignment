{
  "nbformat": 4,
  "nbformat_minor": 0,
  "metadata": {
    "colab": {
      "provenance": []
    },
    "kernelspec": {
      "name": "python3",
      "display_name": "Python 3"
    },
    "language_info": {
      "name": "python"
    }
  },
  "cells": [
    {
      "cell_type": "markdown",
      "source": [
        "1. What is Object-Oriented Programming (OOP)?\n",
        "\n",
        "- Object-Oriented Programming (OOP) is a programming style that’s all about organizing code using objects—which are basically bundles of data (variables) and behavior (functions) wrapped into one neat little package called a class."
      ],
      "metadata": {
        "id": "SKnqWchssMT9"
      }
    },
    {
      "cell_type": "markdown",
      "source": [
        "2. What is a class in OOP?\n",
        "- A class in OOP is like a blueprint or template for creating objects. It defines the properties (variables) and behaviors (methods) that the objects will have."
      ],
      "metadata": {
        "id": "rb3w69c9s9TB"
      }
    },
    {
      "cell_type": "markdown",
      "source": [
        "3. What is an object in OOP?\n",
        "- An object in OOP is an instance of a class — a real, usable thing created from a class blueprint. It has its own values for the properties defined in the class and can use the class's methods."
      ],
      "metadata": {
        "id": "ppQiGxUxuUFP"
      }
    },
    {
      "cell_type": "markdown",
      "source": [
        "4. What is the difference between abstraction and encapsulation?\n",
        "- Abstraction: Hides complex details, shows only what’s needed. Focus on what an object does. → Example: Driving a car without knowing how the engine works.\n",
        "\n",
        "Encapsulation: Hides data, controls access with methods. Protects the object’s state. → Example: Speed is changed with pedals, not directly tweaking the engine.\n",
        "\n",
        "Abstraction = Hide complexity, Encapsulation = Protect data."
      ],
      "metadata": {
        "id": "gznsEiHGubBE"
      }
    },
    {
      "cell_type": "markdown",
      "source": [
        "5. What are dunder methods in Python?\n",
        "- Dunder methods (short for double underscore methods) in Python are special methods with names that start and end with double underscores, like init. They let you define how objects of your class behave in certain situations.\n",
        "\n",
        "example:\n",
        "\n",
        "init: Initializes the object. str: Defines how the object looks as a string."
      ],
      "metadata": {
        "id": "GpwPiZFkutwR"
      }
    },
    {
      "cell_type": "markdown",
      "source": [
        "6. Explain the concept of inheritance in OOP.\n",
        "- Inheritance in OOP lets one class (child) take on properties and methods from another class (parent). It helps reuse code and build relationships between classes. example: Animal is the parent class. Dog is the child class, inheriting from Animal. Inheritance saves code and builds connections between classes.\n",
        "\n"
      ],
      "metadata": {
        "id": "GiwydE3Tu3Ut"
      }
    },
    {
      "cell_type": "markdown",
      "source": [
        "7. What is polymorphism in OOP?\n",
        "- Polymorphism means one action can work in different ways, depending on the object. It lets us use the same method name for different types of objects.Same method, different behavior."
      ],
      "metadata": {
        "id": "7QXZofOVu9Nm"
      }
    },
    {
      "cell_type": "markdown",
      "source": [
        "8. How is encapsulation achieved in Python?\n",
        "- Encapsulation in Python is achieved by keeping data private and controlling access through methods. You use underscores to set variable visibility:\n",
        "\n",
        "Private: Use double underscore __ to hide variables. Protected: Use single underscore _ as a convention (not strictly private, but signals \"for internal use\"). Public: No underscore — accessible everywhere."
      ],
      "metadata": {
        "id": "B3avHEsoumrz"
      }
    },
    {
      "cell_type": "markdown",
      "source": [
        "9. What is a constructor in Python?\n",
        "- A constructor in Python is a special method that automatically runs when you create an object. It sets up the object with initial values. A constructor sets up an object when it’s created."
      ],
      "metadata": {
        "id": "C1v16k2BvP2h"
      }
    },
    {
      "cell_type": "markdown",
      "source": [
        "10. What are class and static methods in Python?\n",
        "- In Python, class methods and static methods are special methods that you can call without creating an object.\n",
        "\n",
        "-->Class Method: Works with the class itself, not instances. Uses @classmethod decorator. Takes cls as the first parameter (refers to the class).\n",
        "\n",
        "-->Static Method: Doesn’t access class or instance data. Uses @staticmethod decorator. No self or cls needed — just like a regular function inside a class."
      ],
      "metadata": {
        "id": "8zcgIE3YvhXP"
      }
    },
    {
      "cell_type": "markdown",
      "source": [
        "11. What is method overloading in Python?\n",
        "- Method overloading in Python means defining multiple methods with the same name but different arguments. Python doesn’t support true method overloading like some other languages, but you can achieve it using default arguments. Python handles overloading with flexible parameters."
      ],
      "metadata": {
        "id": "A7vtBB-Iv5tW"
      }
    },
    {
      "cell_type": "markdown",
      "source": [
        "12. What is method overriding in OOP?\n",
        "- Method overriding in OOP happens when a child class provides its own version of a method that already exists in the parent class. This lets the child class change or extend the method’s behavior. Overriding replaces a parent method with a child’s version"
      ],
      "metadata": {
        "id": "kIfbOaRZwJtH"
      }
    },
    {
      "cell_type": "markdown",
      "source": [
        "13. What is a property decorator in Python?\n",
        "-  In Python, a property decorator (@property) makes a method act like an attribute! It lets us access methods without calling them like functions, adding a layer of control when getting or setting values. Property decorators manage access to class attributes."
      ],
      "metadata": {
        "id": "Ax4g3nBmwP9l"
      }
    },
    {
      "cell_type": "markdown",
      "source": [
        "14. Why is polymorphism important in OOP?\n",
        "- Polymorphism is super important in OOP because it makes your code more flexible, reusable, and easier to maintain! Here’s Reasons are: Simplifies code: You can write one function to work with different types of objects. Promotes reusability: The same interface works for multiple classes, so you don’t repeat code. Enhances flexibility: You can add new classes without changing existing code, as long as they follow the same method structure.\n",
        "\n",
        "Polymorphism makes our code adaptable and future-proof."
      ],
      "metadata": {
        "id": "5oe0jCEZwVW1"
      }
    },
    {
      "cell_type": "markdown",
      "source": [
        "15. What is an abstract class in Python?\n",
        "- An abstract class in Python is like a blueprint for other classes. It defines methods that must be implemented by any subclass. We can’t create objects from an abstract class — it just sets the rules. We create abstract classes using the abc module. Key points: Abstract class: Defined with ABC (Abstract Base Class). Abstract method: Marked with @abstractmethod — must be implemented in child classes. No direct objects: You can’t instantiate an abstract class itself. Abstract classes define structure but leave the details to subclasses."
      ],
      "metadata": {
        "id": "43QVY5B0wi4q"
      }
    },
    {
      "cell_type": "markdown",
      "source": [
        "16. What are the advantages of OOP?\n",
        "-  Object-Oriented Programming (OOP) comes with some awesome advantages are:\n",
        "\n",
        "--> ReusabilityUse the same code across different parts of your program with classes and inheritance.\n",
        "\n",
        "--> Modularity: Split your program into smaller, manageable pieces (classes). Maintainability: Easier to update and fix because you can modify individual classes without breaking the whole program.\n",
        "\n",
        "--> Data security: Protect data with encapsulation (private attributes & controlled access).\n",
        "\n",
        "--> Flexibility & scalability: Handle different data types and behaviors with polymorphism.\n",
        "\n",
        "--> Real-world modeling: Map complex real-world scenarios into classes and objects, making code more intuitive.\n",
        "\n",
        "\n",
        "   Example: A Car class with properties like color and speed, and methods like drive and brake — just like a real car...\n",
        "\n",
        "OOP makes code more organized, reusable, and closer to real-life concepts."
      ],
      "metadata": {
        "id": "emVUeEqmws6D"
      }
    },
    {
      "cell_type": "markdown",
      "source": [
        "17. What is the difference between a class variable and an instance variable?\n",
        "- The difference between a class variable and an instance variable are:\n",
        "Class Variable: Shared across all instances of the class. Defined outside of any methods, right in the class. Changing it affects every object of that class.\n",
        "\n",
        "Instance Variable: Unique to each object. Defined inside the init method (with self). Changing it only affects that object.\n",
        "\n",
        "Class variable = shared data for all objects. Instance variable = unique data for each objecT\n",
        "\n"
      ],
      "metadata": {
        "id": "ezm5ufFvxW8N"
      }
    },
    {
      "cell_type": "markdown",
      "source": [
        "18. What is multiple inheritance in Python?\n",
        "- Multiple inheritance in Python lets a class inherit from more than one parent class. This means the child class gets the properties and methods of all its parent classes. Multiple inheritance combines features from multiple classes into one.\n",
        "\n"
      ],
      "metadata": {
        "id": "DRmj2SmyxnN6"
      }
    },
    {
      "cell_type": "markdown",
      "source": [
        "19. Explain the purpose of ‘’str’ and ‘repr’ ‘ methods in Python.\n",
        "- In Python, str and repr are dunder (double underscore) methods that control how your object is represented as a string. Let’s break it down.\n",
        "\n",
        "**str** (For Users): Returns a human-readable string (informal, pretty). Meant to be helpful for end-users. Used with print() or str().\n",
        "\n",
        "**str**: User-friendly output (like a label).\n",
        "\n",
        "**repr** (For Developers): Returns an official string representation. Meant for debugging and development. Should return a string that could recreate the object. Used with repr() or in the interactive console.\n",
        "\n",
        "**repr:** Debug-friendly output (like a blueprint).\n",
        "\n"
      ],
      "metadata": {
        "id": "uzn2ys48xs56"
      }
    },
    {
      "cell_type": "markdown",
      "source": [
        "20. What is the significance of the ‘super()’ function in Python?\n",
        "- The super() function in Python is used to call a method from a parent class. It’s especially useful in inheritance because it lets you reuse the parent class's methods without directly naming the parent. super() calls parent methods or constructors. Helps in extending or modifying inherited behavior."
      ],
      "metadata": {
        "id": "r5VBdMZCwytD"
      }
    },
    {
      "cell_type": "markdown",
      "source": [
        "21. What is the significance of the del method in Python?\n",
        "- The del method in Python is a destructor — it’s called automatically when an object is about to be destroyed (like when it goes out of scope or is deleted). It lets you run cleanup code, such as closing files or releasing resources. del helps clean up resources when an object is destroyed.\n",
        "\n"
      ],
      "metadata": {
        "id": "ToGBEQDiyQMt"
      }
    },
    {
      "cell_type": "markdown",
      "source": [
        "22. What is the difference between @staticmethod and @classmethod in Python?\n",
        "- In Python, @staticmethod and @classmethod define methods that you can call on a class without creating an object.\n",
        "\n",
        "@staticmethod (No Access to Class or Instance): Independent function inside a class. No access to class or instance variables. Doesn’t need self or cls.\n",
        "\n",
        "@staticmethod: No class or object access — just a regular function inside a class.\n",
        "\n",
        "@classmethod (Access to Class, Not Instance): Works with the class itself, not an object. Takes cls as the first parameter (not self). Can modify class-level variables.\n",
        "\n",
        "@classmethod: Works with the class itself (via cls), can change class variables."
      ],
      "metadata": {
        "id": "OcHNSUTcyWWs"
      }
    },
    {
      "cell_type": "markdown",
      "source": [
        "23. How does polymorphism work in Python with inheritance?\n",
        "- In Python, polymorphism with inheritance means that child classes can have methods with the same name as in the parent class, but with their own unique behavior. This lets you use a single interface to interact with different types of objects. Polymorphism lets us use a common method name to interact with different types of objects, making your code more flexible and scalable."
      ],
      "metadata": {
        "id": "vOLHMDrcyg7O"
      }
    },
    {
      "cell_type": "markdown",
      "source": [
        "24. What is method chaining in Python OOP?\n",
        "- Method chaining in Python OOP is a technique where you call multiple methods on the same object in a single line, one after the other. For this to work, each method needs to return the object itself (usually with return self). Method chaining makes your code more fluent and compact, especially useful for builders, data processing, or configurations."
      ],
      "metadata": {
        "id": "8DyJcqo8yl2L"
      }
    },
    {
      "cell_type": "markdown",
      "source": [
        "25. What is the purpose of the **call** method in Python?\n",
        "- In Python, the **call** method makes an object callable like a function! If you define **call** in a class, you can create an object and then call it with parentheses, just like a regular function. **call** turns an object into a callable function! It gives you the power of functions with the structure of classes."
      ],
      "metadata": {
        "id": "ZuViahaqyq1L"
      }
    },
    {
      "cell_type": "markdown",
      "source": [
        "#Practical Questions"
      ],
      "metadata": {
        "id": "KUgIZPXEy2bh"
      }
    },
    {
      "cell_type": "code",
      "source": [
        "#1. . Create a parent class Animal with a method speak() that prints a generic message. Create a child class Dog that overrides the speak() method to print \"Bark!\"\n",
        "class Animal:\n",
        "    def speak(self):\n",
        "        print(\"Generic animal sound\")\n",
        "\n",
        "class Dog(Animal):\n",
        "    def speak(self):\n",
        "        print(\"Bark!\")\n",
        ""
      ],
      "metadata": {
        "id": "xJXy5TX_zGDD"
      },
      "execution_count": 1,
      "outputs": []
    },
    {
      "cell_type": "code",
      "source": [
        "a1 = Dog()\n",
        "a1.speak()"
      ],
      "metadata": {
        "colab": {
          "base_uri": "https://localhost:8080/"
        },
        "id": "wMOFqvnezWuY",
        "outputId": "f8cd3c8b-0f42-43b0-9637-41f8b33e3141"
      },
      "execution_count": 3,
      "outputs": [
        {
          "output_type": "stream",
          "name": "stdout",
          "text": [
            "Bark!\n"
          ]
        }
      ]
    },
    {
      "cell_type": "code",
      "source": [
        "a1 = Animal()\n",
        "a1.speak()"
      ],
      "metadata": {
        "colab": {
          "base_uri": "https://localhost:8080/"
        },
        "id": "yCmIeO5xze2a",
        "outputId": "255fbe2a-ca23-422a-f1ec-12d48cec6f77"
      },
      "execution_count": 4,
      "outputs": [
        {
          "output_type": "stream",
          "name": "stdout",
          "text": [
            "Generic animal sound\n"
          ]
        }
      ]
    },
    {
      "cell_type": "code",
      "source": [
        "#2.  Write a program to create an abstract class Shape with a method area(). Derive classes Circle and Rectangle from it and implement the area() method in both.\n",
        "from abc import ABC, abstractmethod\n",
        "class Shape(ABC):\n",
        "  @abstractmethod\n",
        "  def area(self):\n",
        "    pass\n",
        "class Circle(Shape):\n",
        "  def __init__(self, radius):\n",
        "    self.radius = radius\n",
        "  def area(self):\n",
        "    return 3.14 * (self.radius ** 2)\n",
        "\n",
        "class Rectangle(Shape):\n",
        "  def __init__(self, length, width):\n",
        "    self.length = length\n",
        "    self.width = width\n",
        "  def area(self):\n",
        "    return self.length * self.width"
      ],
      "metadata": {
        "id": "NrtpU2gi0ACY"
      },
      "execution_count": 10,
      "outputs": []
    },
    {
      "cell_type": "code",
      "source": [
        "c1=Circle(5)\n",
        "c1.area()"
      ],
      "metadata": {
        "colab": {
          "base_uri": "https://localhost:8080/"
        },
        "id": "5ZdIqkwU1FJV",
        "outputId": "96633943-ffaa-471e-8e03-d453ed9a6c19"
      },
      "execution_count": 11,
      "outputs": [
        {
          "output_type": "execute_result",
          "data": {
            "text/plain": [
              "78.5"
            ]
          },
          "metadata": {},
          "execution_count": 11
        }
      ]
    },
    {
      "cell_type": "code",
      "source": [
        "r1 = Rectangle(4,5)\n",
        "r1.area()"
      ],
      "metadata": {
        "colab": {
          "base_uri": "https://localhost:8080/"
        },
        "id": "Iuo9v9RL1STw",
        "outputId": "5e3e5c90-411b-48c3-fccb-ed1e1cca6c21"
      },
      "execution_count": 12,
      "outputs": [
        {
          "output_type": "execute_result",
          "data": {
            "text/plain": [
              "20"
            ]
          },
          "metadata": {},
          "execution_count": 12
        }
      ]
    },
    {
      "cell_type": "code",
      "source": [
        "#3.  Implement a multi-level inheritance scenario where a class Vehicle has an attribute type. Derive a class Car and further derive a class ElectricCar that adds a battery attribute.\n",
        "class Vehicle:\n",
        "  def __init__(self,Vehicle_type):\n",
        "    self.Vechile_type=Vehicle_type\n",
        "\n",
        "class Car(Vehicle):\n",
        "  def __init__(self,Car_type,Vehicle_type):\n",
        "    super().__init__(Vehicle_type)\n",
        "    self.Car_type=Car_type\n",
        "\n",
        "class ElectricCar(Car):\n",
        "  def __init__(self,Car_type,Vehicle_type,Battery):\n",
        "    super().__init__(Vehicle_type, Car_type)\n",
        "    self.Battery=Battery\n",
        "\n",
        "\n",
        "\n",
        "\n"
      ],
      "metadata": {
        "id": "sV57SWre1TvB"
      },
      "execution_count": 19,
      "outputs": []
    },
    {
      "cell_type": "code",
      "source": [
        "e=ElectricCar(\"Sedan\", \"Hatchback\",70)\n",
        "e.Vechile_type"
      ],
      "metadata": {
        "colab": {
          "base_uri": "https://localhost:8080/",
          "height": 36
        },
        "id": "jok9h-aA5sgz",
        "outputId": "e74a7301-c334-42d0-efc2-7f83fc538629"
      },
      "execution_count": 21,
      "outputs": [
        {
          "output_type": "execute_result",
          "data": {
            "text/plain": [
              "'Sedan'"
            ],
            "application/vnd.google.colaboratory.intrinsic+json": {
              "type": "string"
            }
          },
          "metadata": {},
          "execution_count": 21
        }
      ]
    },
    {
      "cell_type": "code",
      "source": [
        "#4.  Demonstrate polymorphism by creating a base class Bird with a method fly(). Create two derived classes Sparrow and Penguin that override the fly() method.\n",
        "class Bird:\n",
        "    def fly(self):\n",
        "        print(\"bird flying\")\n",
        "\n",
        "class Sparrow(Bird):\n",
        "    def fly(self):\n",
        "        print(\"Sparrow flying\")\n",
        "class Penguin(Bird):\n",
        "    def fly(self):\n",
        "        print(\"Penguin cannot fly\")\n",
        ""
      ],
      "metadata": {
        "id": "lRNxMzB65yN1"
      },
      "execution_count": 24,
      "outputs": []
    },
    {
      "cell_type": "code",
      "source": [
        "s1=Sparrow()\n",
        "s1.fly()"
      ],
      "metadata": {
        "colab": {
          "base_uri": "https://localhost:8080/"
        },
        "id": "poTBaYAr6Ygc",
        "outputId": "d501b667-66d8-49ef-e8a0-528f47d0fe91"
      },
      "execution_count": 25,
      "outputs": [
        {
          "output_type": "stream",
          "name": "stdout",
          "text": [
            "Sparrow flying\n"
          ]
        }
      ]
    },
    {
      "cell_type": "code",
      "source": [
        "p1 = Penguin()\n",
        "p1.fly()"
      ],
      "metadata": {
        "colab": {
          "base_uri": "https://localhost:8080/"
        },
        "id": "Z1D1kyFX6bLQ",
        "outputId": "98f84b25-40dd-4e62-b749-8c041e17f7a6"
      },
      "execution_count": 26,
      "outputs": [
        {
          "output_type": "stream",
          "name": "stdout",
          "text": [
            "Penguin cannot fly\n"
          ]
        }
      ]
    },
    {
      "cell_type": "code",
      "source": [
        "#5. Write a program to demonstrate encapsulation by creating a class BankAccount with private attributes balance and methods to deposit, withdraw, and check balance\n",
        "\n",
        "class BankAccount:\n",
        "  def __init__(self,Account_no,ini_Balance=0):\n",
        "     self.__Account_no=Account_no  #private attribute\n",
        "\n",
        "     # initial balance is not negative\n",
        "     self.__Balance=  ini_Balance if ini_Balance >=0 else 0\n",
        "     if ini_Balance<0:\n",
        "       print(\"Balance Can not be negative\")\n",
        "\n",
        "  def deposit(self,amount):\n",
        "    if amount>0:\n",
        "      self.__Balance+=amount\n",
        "      print(f\"deposited Rs. {amount}.Balance Rs.{self.__Balance}\")\n",
        "    else:\n",
        "      print(\"Invalid deposit amount. amount Can not be negative.\")\n",
        "\n",
        "\n",
        "  def withdraw(self,amount):\n",
        "    if amount>0 and amount<=self.__Balance:\n",
        "       self.__Balance-=amount\n",
        "       print(f\"Withdraw Rs.{amount}.Balance Rs.{self.__Balance}\")\n",
        "    elif amount>self.__Balance:\n",
        "      print(\"Insufficient funds.\")\n",
        "    else:\n",
        "       print(\"Withdrawal amount must be positive.\")\n",
        "\n",
        "  def check_balance(self):\n",
        "        print(f\"Current balance:Rs.{self.__Balance}\")"
      ],
      "metadata": {
        "id": "CABHBu5k92Q6"
      },
      "execution_count": 75,
      "outputs": []
    },
    {
      "cell_type": "code",
      "source": [
        "ac1=BankAccount(\"124652\",-500)\n",
        "ac1.check_balance()"
      ],
      "metadata": {
        "colab": {
          "base_uri": "https://localhost:8080/"
        },
        "id": "Tjm3wdfKBJ13",
        "outputId": "e10cccbd-b618-434b-c259-72e34f5122ee"
      },
      "execution_count": 76,
      "outputs": [
        {
          "output_type": "stream",
          "name": "stdout",
          "text": [
            "Balance Can not be negative\n",
            "Current balance:Rs.0\n"
          ]
        }
      ]
    },
    {
      "cell_type": "code",
      "source": [
        "ac1=BankAccount(\"12451\",5000)\n",
        "ac1.check_balance()"
      ],
      "metadata": {
        "colab": {
          "base_uri": "https://localhost:8080/"
        },
        "id": "MJ2Nr5EVFl1T",
        "outputId": "ee7590cf-56b7-4423-d250-5aa4c8150668"
      },
      "execution_count": 77,
      "outputs": [
        {
          "output_type": "stream",
          "name": "stdout",
          "text": [
            "Current balance:Rs.5000\n"
          ]
        }
      ]
    },
    {
      "cell_type": "code",
      "source": [
        "ac1.deposit(500)\n",
        "ac1.withdraw(500)\n",
        "ac1.check_balance()"
      ],
      "metadata": {
        "colab": {
          "base_uri": "https://localhost:8080/"
        },
        "id": "YSGm6l3xG9hB",
        "outputId": "1e129669-889a-487f-a0f0-a7477d01b518"
      },
      "execution_count": 78,
      "outputs": [
        {
          "output_type": "stream",
          "name": "stdout",
          "text": [
            "deposited Rs. 500.Balance Rs.5500\n",
            "Withdraw Rs.500.Balance Rs.5000\n",
            "Current balance:Rs.5000\n"
          ]
        }
      ]
    },
    {
      "cell_type": "code",
      "source": [
        "#6. Demonstrate runtime polymorphism using a method play() in a base class Instrument. Derive classes Guitar and Piano that implement their own version of play().\n",
        "class Instrument:\n",
        "    def play(self):\n",
        "        print(\"Playing an instrument...\")\n",
        "\n",
        "class Guitar(Instrument):\n",
        "    def play(self):\n",
        "        print(\"Playing the guitar: Strum, strum!\")\n",
        "\n",
        "class Piano(Instrument):\n",
        "    def play(self):\n",
        "        print(\"Playing the piano: Plink, plink!\")\n",
        "\n",
        "# Function to demonstrate runtime polymorphism\n",
        "def play_instrument(instrument):\n",
        "    instrument.play()"
      ],
      "metadata": {
        "id": "ucbX-Lc6P5d6"
      },
      "execution_count": 79,
      "outputs": []
    },
    {
      "cell_type": "code",
      "source": [
        "guitar = Guitar()\n",
        "piano = Piano()\n",
        "instrument = Instrument()"
      ],
      "metadata": {
        "id": "0dA6BRpUQsBn"
      },
      "execution_count": 80,
      "outputs": []
    },
    {
      "cell_type": "code",
      "source": [
        "play_instrument(guitar)\n",
        "play_instrument(piano)\n",
        "play_instrument(instrument)"
      ],
      "metadata": {
        "colab": {
          "base_uri": "https://localhost:8080/"
        },
        "id": "QdyF6nFBQu-L",
        "outputId": "567b05e5-e44e-4529-db40-ac95bac47ac8"
      },
      "execution_count": 81,
      "outputs": [
        {
          "output_type": "stream",
          "name": "stdout",
          "text": [
            "Playing the guitar: Strum, strum!\n",
            "Playing the piano: Plink, plink!\n",
            "Playing an instrument...\n"
          ]
        }
      ]
    },
    {
      "cell_type": "code",
      "source": [
        "#7.  Create a class MathOperations with a class method add_numbers() to add two numbers and a static method subtract_numbers() to subtract two numbers\n",
        "class MathOperations:\n",
        "    @classmethod\n",
        "    def add_numbers(cls, a, b):\n",
        "        return a + b\n",
        "\n",
        "    @staticmethod\n",
        "    def subtract_numbers(a, b):\n",
        "        return a - b\n",
        ""
      ],
      "metadata": {
        "id": "fIxFck4MQ4RB"
      },
      "execution_count": 82,
      "outputs": []
    },
    {
      "cell_type": "code",
      "source": [
        "MathOperations.add_numbers(10, 14)\n",
        "\n",
        "\n"
      ],
      "metadata": {
        "colab": {
          "base_uri": "https://localhost:8080/"
        },
        "id": "ifN6plUHQ7JI",
        "outputId": "56609a61-0a15-407c-9524-b82efcf3f269"
      },
      "execution_count": 85,
      "outputs": [
        {
          "output_type": "execute_result",
          "data": {
            "text/plain": [
              "24"
            ]
          },
          "metadata": {},
          "execution_count": 85
        }
      ]
    },
    {
      "cell_type": "code",
      "source": [
        "MathOperations.subtract_numbers(19, 5)"
      ],
      "metadata": {
        "colab": {
          "base_uri": "https://localhost:8080/"
        },
        "id": "z5Q3ICrvRB4m",
        "outputId": "47403455-d2df-48fe-fb3a-926df1a67027"
      },
      "execution_count": 86,
      "outputs": [
        {
          "output_type": "execute_result",
          "data": {
            "text/plain": [
              "14"
            ]
          },
          "metadata": {},
          "execution_count": 86
        }
      ]
    },
    {
      "cell_type": "code",
      "source": [
        "#8. Implement a class Person with a class method to count the total number of persons created.\n",
        "class Person:\n",
        "    count = 0\n",
        "\n",
        "    def __init__(self, name):\n",
        "        self.name = name\n",
        "        Person.count += 1\n",
        "\n",
        "    @classmethod\n",
        "    def get_person_count(cls):\n",
        "        return cls.count"
      ],
      "metadata": {
        "id": "M_pRMHTkRIeA"
      },
      "execution_count": 90,
      "outputs": []
    },
    {
      "cell_type": "code",
      "source": [
        "p1 = Person(\"preet\")\n",
        "p2 = Person(\"Akansha\")\n",
        "p3 = Person(\"Rahul\")"
      ],
      "metadata": {
        "id": "uQYLeoEURM91"
      },
      "execution_count": 88,
      "outputs": []
    },
    {
      "cell_type": "code",
      "source": [
        "Person.get_person_count()"
      ],
      "metadata": {
        "colab": {
          "base_uri": "https://localhost:8080/"
        },
        "id": "-G1uGpYvRM6R",
        "outputId": "ba3ac812-ecf3-45dd-bf31-cf4e47e943e8"
      },
      "execution_count": 89,
      "outputs": [
        {
          "output_type": "execute_result",
          "data": {
            "text/plain": [
              "3"
            ]
          },
          "metadata": {},
          "execution_count": 89
        }
      ]
    },
    {
      "cell_type": "code",
      "source": [
        "#9. Write a class Fraction with attributes numerator and denominator. Override the str method to display the fraction as \"numerator/denominator\"\n",
        "class Fraction:\n",
        "    def __init__(self, numerator, denominator):\n",
        "        self.numerator = numerator\n",
        "        self.denominator = denominator\n",
        "\n",
        "    def __str__(self):\n",
        "        return f\"{self.numerator}/{self.denominator}\"\n",
        ""
      ],
      "metadata": {
        "id": "M5lLWlmyRjUP"
      },
      "execution_count": 91,
      "outputs": []
    },
    {
      "cell_type": "code",
      "source": [
        "fraction = Fraction(3, 4)\n",
        "print(\"Fraction:\", fraction)"
      ],
      "metadata": {
        "colab": {
          "base_uri": "https://localhost:8080/"
        },
        "id": "ONbJmIvERnls",
        "outputId": "fd3045a4-f680-4a4c-b2a0-24fd983ac4a3"
      },
      "execution_count": 92,
      "outputs": [
        {
          "output_type": "stream",
          "name": "stdout",
          "text": [
            "Fraction: 3/4\n"
          ]
        }
      ]
    },
    {
      "cell_type": "code",
      "source": [
        "#10.  Demonstrate operator overloading by creating a class Vector and overriding the add method to add two vectors.\n",
        "class Vector:\n",
        "    def __init__(self, x, y):\n",
        "        self.x = x\n",
        "        self.y = y\n",
        "\n",
        "    def __add__(self, other):\n",
        "        return Vector(self.x + other.x, self.y + other.y)\n",
        "\n",
        "    def __str__(self):\n",
        "        return f\"({self.x}, {self.y})\""
      ],
      "metadata": {
        "id": "05kCOIi8Rq3n"
      },
      "execution_count": 93,
      "outputs": []
    },
    {
      "cell_type": "code",
      "source": [
        "vector1 = Vector(2, 3)\n",
        "vector2 = Vector(4, 5)"
      ],
      "metadata": {
        "id": "PAGlkP9VRtXJ"
      },
      "execution_count": 94,
      "outputs": []
    },
    {
      "cell_type": "code",
      "source": [
        "result_vector = vector1 + vector2\n",
        "print(\"Resultant Vector:\", result_vector)\n",
        ""
      ],
      "metadata": {
        "colab": {
          "base_uri": "https://localhost:8080/"
        },
        "id": "M6ACuxhXRv34",
        "outputId": "a3fb1bd6-f49b-4e55-bc53-041b92aa4197"
      },
      "execution_count": 95,
      "outputs": [
        {
          "output_type": "stream",
          "name": "stdout",
          "text": [
            "Resultant Vector: (6, 8)\n"
          ]
        }
      ]
    },
    {
      "cell_type": "code",
      "source": [
        "#11. Create a class Person with attributes name and age. Add a method greet() that prints \"Hello, my name is {name} and I am {age} years old.\"\n",
        "class Person:\n",
        "    count = 0\n",
        "\n",
        "    def __init__(self, name, age):\n",
        "        self.name = name\n",
        "        self.age = age\n",
        "        Person.count += 1\n",
        "\n",
        "    def greet(self):\n",
        "        print(f\"Hello, my name is {self.name} and I am {self.age} years old.\")"
      ],
      "metadata": {
        "id": "lLZ9kphFRyxk"
      },
      "execution_count": 96,
      "outputs": []
    },
    {
      "cell_type": "code",
      "source": [
        "p1 = Person(\"Ankita\", 21)\n",
        "p1.greet()"
      ],
      "metadata": {
        "colab": {
          "base_uri": "https://localhost:8080/"
        },
        "id": "ps72hbDJR1EP",
        "outputId": "4204d167-f746-4100-f5a6-333541be79d5"
      },
      "execution_count": 97,
      "outputs": [
        {
          "output_type": "stream",
          "name": "stdout",
          "text": [
            "Hello, my name is Ankita and I am 21 years old.\n"
          ]
        }
      ]
    },
    {
      "cell_type": "code",
      "source": [
        "#12.  Implement a class Student with attributes name and grades. Create a method average_grade() to compute the average of the grades.\n",
        "class Student:\n",
        "    def __init__(self, name, grades):\n",
        "        self.name = name\n",
        "        self.grades = grades\n",
        "\n",
        "    def average_grade(self):\n",
        "        return sum(self.grades) / len(self.grades) if self.grades else 0"
      ],
      "metadata": {
        "id": "7RHBxDDMR6hg"
      },
      "execution_count": 98,
      "outputs": []
    },
    {
      "cell_type": "code",
      "source": [
        "student1 = Student(\"John\", [85, 90, 78])\n",
        "print(f\"{student1.name}'s average grade: {student1.average_grade():.2f}\") # :.2f to show only two digit decimal after ."
      ],
      "metadata": {
        "colab": {
          "base_uri": "https://localhost:8080/"
        },
        "id": "D5SgXwWfR97o",
        "outputId": "4cbe298f-b940-4b1b-a41e-ec5b8c87c7fa"
      },
      "execution_count": 99,
      "outputs": [
        {
          "output_type": "stream",
          "name": "stdout",
          "text": [
            "John's average grade: 84.33\n"
          ]
        }
      ]
    },
    {
      "cell_type": "code",
      "source": [
        "#13. Create a class Rectangle with methods set_dimensions() to set the dimensions and area() to calculate the area.\n",
        "class Rectangle:\n",
        "    def __init__(self):\n",
        "        self.length = 0\n",
        "        self.width = 0\n",
        "\n",
        "    def set_dimensions(self, length, width):\n",
        "        self.length = length\n",
        "        self.width = width\n",
        "\n",
        "    def area(self):\n",
        "        return self.length * self.width"
      ],
      "metadata": {
        "id": "4c9rKhWbSAUY"
      },
      "execution_count": 100,
      "outputs": []
    },
    {
      "cell_type": "code",
      "source": [
        "rectangle = Rectangle()\n",
        "rectangle.set_dimensions(5, 10)\n",
        "print(\"Area of rectangle:\", rectangle.area())"
      ],
      "metadata": {
        "colab": {
          "base_uri": "https://localhost:8080/"
        },
        "id": "lryfijTiSC_m",
        "outputId": "2907c9c2-9cfe-4394-e0b0-cea87ba65914"
      },
      "execution_count": 101,
      "outputs": [
        {
          "output_type": "stream",
          "name": "stdout",
          "text": [
            "Area of rectangle: 50\n"
          ]
        }
      ]
    },
    {
      "cell_type": "code",
      "source": [
        "#14.  Create a class Employee with a method calculate_salary() that computes the salary based on hours worked and hourly rate. Create a derived class Manager that adds a bonus to the salary.\n",
        "class Employee:\n",
        "    def __init__(self, name, hourly_rate):\n",
        "        self.name = name\n",
        "        self.hourly_rate = hourly_rate\n",
        "\n",
        "    def calculate_salary(self, hours_worked):\n",
        "        return hours_worked * self.hourly_rate\n",
        "\n",
        "class Manager(Employee):\n",
        "    def __init__(self, name, hourly_rate, bonus):\n",
        "        super().__init__(name, hourly_rate)\n",
        "        self.bonus = bonus\n",
        "\n",
        "    def calculate_salary(self, hours_worked):\n",
        "        base_salary = super().calculate_salary(hours_worked)\n",
        "        return base_salary + self.bonus\n",
        ""
      ],
      "metadata": {
        "id": "FCbyA-TCSFeR"
      },
      "execution_count": 102,
      "outputs": []
    },
    {
      "cell_type": "code",
      "source": [
        "employee = Employee(\"Raja\", 20)\n",
        "manager = Manager(\"Ram\", 30, 500)"
      ],
      "metadata": {
        "id": "-3_9ZfMeSH00"
      },
      "execution_count": 103,
      "outputs": []
    },
    {
      "cell_type": "code",
      "source": [
        "manager.calculate_salary(40)"
      ],
      "metadata": {
        "colab": {
          "base_uri": "https://localhost:8080/"
        },
        "id": "6twohxzfSKup",
        "outputId": "d75847d3-2213-4f58-9de6-6c8d23931ec3"
      },
      "execution_count": 104,
      "outputs": [
        {
          "output_type": "execute_result",
          "data": {
            "text/plain": [
              "1700"
            ]
          },
          "metadata": {},
          "execution_count": 104
        }
      ]
    },
    {
      "cell_type": "code",
      "source": [
        "employee.calculate_salary(40)\n",
        ""
      ],
      "metadata": {
        "colab": {
          "base_uri": "https://localhost:8080/"
        },
        "id": "fAjeTgXtSM7q",
        "outputId": "1c1e456b-a909-4bcb-9bc8-2242bc522ead"
      },
      "execution_count": 105,
      "outputs": [
        {
          "output_type": "execute_result",
          "data": {
            "text/plain": [
              "800"
            ]
          },
          "metadata": {},
          "execution_count": 105
        }
      ]
    },
    {
      "cell_type": "code",
      "source": [
        "#15. Create a class Product with attributes name, price, and quantity. Implement a method total_price() that calculates the total price of the product.\n",
        "class Product:\n",
        "    def __init__(self, name, price, quantity):\n",
        "        self.name = name\n",
        "        self.price = price\n",
        "        self.quantity = quantity\n",
        "\n",
        "    def total_price(self):\n",
        "        return self.price * self.quantity\n",
        ""
      ],
      "metadata": {
        "id": "4zcWV3PNSPTN"
      },
      "execution_count": 106,
      "outputs": []
    },
    {
      "cell_type": "code",
      "source": [
        "product = Product(\"Laptop\", 65900, 2)\n",
        ""
      ],
      "metadata": {
        "id": "PDcvqAyrSRbM"
      },
      "execution_count": 108,
      "outputs": []
    },
    {
      "cell_type": "code",
      "source": [
        "product.total_price()\n",
        ""
      ],
      "metadata": {
        "colab": {
          "base_uri": "https://localhost:8080/"
        },
        "id": "J54hDtQYSS8w",
        "outputId": "5046edbe-e454-4f3f-9ef8-6b7a617bf784"
      },
      "execution_count": 109,
      "outputs": [
        {
          "output_type": "execute_result",
          "data": {
            "text/plain": [
              "131800"
            ]
          },
          "metadata": {},
          "execution_count": 109
        }
      ]
    },
    {
      "cell_type": "code",
      "source": [
        "#16. Create a class Animal with an abstract method sound(). Create two derived classes Cow and Sheep that implement the sound() method.\n",
        "class Animal(ABC):\n",
        "    @abstractmethod\n",
        "    def sound(self):\n",
        "        pass\n",
        "\n",
        "class Cow(Animal):\n",
        "    def sound(self):\n",
        "        return \"Moo\"\n",
        "\n",
        "class Sheep(Animal):\n",
        "    def sound(self):\n",
        "        return \"Baa\""
      ],
      "metadata": {
        "id": "-MnhvsSBSXq5"
      },
      "execution_count": 110,
      "outputs": []
    },
    {
      "cell_type": "code",
      "source": [
        "cow = Cow()\n",
        "sheep = Sheep()\n",
        ""
      ],
      "metadata": {
        "id": "KREkZmgzSZ3a"
      },
      "execution_count": 111,
      "outputs": []
    },
    {
      "cell_type": "code",
      "source": [
        "cow.sound()\n",
        ""
      ],
      "metadata": {
        "colab": {
          "base_uri": "https://localhost:8080/",
          "height": 36
        },
        "id": "vBk_0KWcSbmE",
        "outputId": "90e7027a-1e0c-404e-f6bd-a62882cc4db0"
      },
      "execution_count": 112,
      "outputs": [
        {
          "output_type": "execute_result",
          "data": {
            "text/plain": [
              "'Moo'"
            ],
            "application/vnd.google.colaboratory.intrinsic+json": {
              "type": "string"
            }
          },
          "metadata": {},
          "execution_count": 112
        }
      ]
    },
    {
      "cell_type": "code",
      "source": [
        "sheep.sound()"
      ],
      "metadata": {
        "colab": {
          "base_uri": "https://localhost:8080/",
          "height": 36
        },
        "id": "0IKU1kVOSdNd",
        "outputId": "0d952e17-236e-4402-f5ec-81924aaf9b0a"
      },
      "execution_count": 113,
      "outputs": [
        {
          "output_type": "execute_result",
          "data": {
            "text/plain": [
              "'Baa'"
            ],
            "application/vnd.google.colaboratory.intrinsic+json": {
              "type": "string"
            }
          },
          "metadata": {},
          "execution_count": 113
        }
      ]
    },
    {
      "cell_type": "code",
      "source": [
        "#17. Create a class Book with attributes title, author, and year_published. Add a method get_book_info() that returns a formatted string with the book's details\n",
        "class Book:\n",
        "    def __init__(self, title, author, year_published):\n",
        "        self.title = title\n",
        "        self.author = author\n",
        "        self.year_published = year_published\n",
        "\n",
        "    def get_book_info(self):\n",
        "        return f\"{self.title} by {self.author}, published in {self.year_published}\""
      ],
      "metadata": {
        "id": "ODiMeZYbShHQ"
      },
      "execution_count": 114,
      "outputs": []
    },
    {
      "cell_type": "code",
      "source": [
        "book = Book(\"Rich Dad Poor Dad\", \"Robert T. Kiyosaki\", 1997)"
      ],
      "metadata": {
        "id": "xrUbtMUrSkV3"
      },
      "execution_count": 115,
      "outputs": []
    },
    {
      "cell_type": "code",
      "source": [
        "book.get_book_info()"
      ],
      "metadata": {
        "colab": {
          "base_uri": "https://localhost:8080/",
          "height": 36
        },
        "id": "lnfsAdz0SmYo",
        "outputId": "b1447760-8a5b-45f3-e5da-d55169994f16"
      },
      "execution_count": 116,
      "outputs": [
        {
          "output_type": "execute_result",
          "data": {
            "text/plain": [
              "'Rich Dad Poor Dad by Robert T. Kiyosaki, published in 1997'"
            ],
            "application/vnd.google.colaboratory.intrinsic+json": {
              "type": "string"
            }
          },
          "metadata": {},
          "execution_count": 116
        }
      ]
    },
    {
      "cell_type": "code",
      "source": [
        " #18. Create a class House with attributes address and price. Create a derived class Mansion that adds an attribute number_of_rooms.\n",
        "class House:\n",
        "    def __init__(self, address, price):\n",
        "        self.address = address\n",
        "        self.price = price\n",
        "\n",
        "class Mansion(House):\n",
        "    def __init__(self, address, price, number_of_rooms):\n",
        "        super().__init__(address, price)\n",
        "        self.number_of_rooms = number_of_rooms"
      ],
      "metadata": {
        "id": "uNWJc4l-So-k"
      },
      "execution_count": 118,
      "outputs": []
    },
    {
      "cell_type": "code",
      "source": [
        "house = House(\"15/2 M G road\", 300000)\n",
        "mansion = Mansion(\"456 Topin Street\", 1000000, 10)"
      ],
      "metadata": {
        "id": "IZg944BpSrw_"
      },
      "execution_count": 119,
      "outputs": []
    },
    {
      "cell_type": "code",
      "source": [
        "print(f\"House at {house.address}, priced at ${house.price}\")"
      ],
      "metadata": {
        "colab": {
          "base_uri": "https://localhost:8080/"
        },
        "id": "9t6L9hnVSwVA",
        "outputId": "ac925385-c79f-4795-dae0-c795946e6b47"
      },
      "execution_count": 120,
      "outputs": [
        {
          "output_type": "stream",
          "name": "stdout",
          "text": [
            "House at 15/2 M G road, priced at $300000\n"
          ]
        }
      ]
    },
    {
      "cell_type": "code",
      "source": [
        "print(f\"Mansion at {mansion.address}, priced at ${mansion.price}, with {mansion.number_of_rooms} rooms\")"
      ],
      "metadata": {
        "colab": {
          "base_uri": "https://localhost:8080/"
        },
        "id": "BNE_aB38SwHy",
        "outputId": "877c633b-628b-4a6c-c359-f9564c8259cb"
      },
      "execution_count": 121,
      "outputs": [
        {
          "output_type": "stream",
          "name": "stdout",
          "text": [
            "Mansion at 456 Topin Street, priced at $1000000, with 10 rooms\n"
          ]
        }
      ]
    },
    {
      "cell_type": "code",
      "source": [],
      "metadata": {
        "id": "bJK3yozCSvrt"
      },
      "execution_count": null,
      "outputs": []
    }
  ]
}